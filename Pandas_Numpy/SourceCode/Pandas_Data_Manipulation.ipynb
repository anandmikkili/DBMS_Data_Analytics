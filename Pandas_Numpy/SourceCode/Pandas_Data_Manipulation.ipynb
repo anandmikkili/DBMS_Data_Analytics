{
  "metadata": {
    "language_info": {
      "codemirror_mode": {
        "name": "python",
        "version": 3
      },
      "file_extension": ".py",
      "mimetype": "text/x-python",
      "name": "python",
      "nbconvert_exporter": "python",
      "pygments_lexer": "ipython3",
      "version": "3.8"
    },
    "kernelspec": {
      "name": "python",
      "display_name": "Python (Pyodide)",
      "language": "python"
    }
  },
  "nbformat_minor": 4,
  "nbformat": 4,
  "cells": [
    {
      "cell_type": "code",
      "source": "import pandas as pd",
      "metadata": {
        "trusted": true
      },
      "execution_count": 1,
      "outputs": []
    },
    {
      "cell_type": "markdown",
      "source": "Creating DataFrame",
      "metadata": {}
    },
    {
      "cell_type": "code",
      "source": "names = ['Kanishka', 'Sahithi','Bansal', 'Sibi']\neng_marks = [100,56,33,78]\nhindi_marks = [87,43,23,65]\nscience_marks = [93,71,56,32]\nsocial_marks = [90,54,56,78]\nd = {'Student_Name':names,'English':eng_marks, 'Hindi':hindi_marks,'Science':science_marks, 'Social':social_marks}\ndf = pd.DataFrame(data=d)",
      "metadata": {
        "trusted": true
      },
      "execution_count": 2,
      "outputs": []
    },
    {
      "cell_type": "code",
      "source": "df",
      "metadata": {
        "trusted": true
      },
      "execution_count": 3,
      "outputs": [
        {
          "execution_count": 3,
          "output_type": "execute_result",
          "data": {
            "text/plain": "  Student_Name  English  Hindi  Science  Social\n0     Kanishka      100     87       93      90\n1      Sahithi       56     43       71      54\n2       Bansal       33     23       56      56\n3         Sibi       78     65       32      78",
            "text/html": "<div>\n<style scoped>\n    .dataframe tbody tr th:only-of-type {\n        vertical-align: middle;\n    }\n\n    .dataframe tbody tr th {\n        vertical-align: top;\n    }\n\n    .dataframe thead th {\n        text-align: right;\n    }\n</style>\n<table border=\"1\" class=\"dataframe\">\n  <thead>\n    <tr style=\"text-align: right;\">\n      <th></th>\n      <th>Student_Name</th>\n      <th>English</th>\n      <th>Hindi</th>\n      <th>Science</th>\n      <th>Social</th>\n    </tr>\n  </thead>\n  <tbody>\n    <tr>\n      <th>0</th>\n      <td>Kanishka</td>\n      <td>100</td>\n      <td>87</td>\n      <td>93</td>\n      <td>90</td>\n    </tr>\n    <tr>\n      <th>1</th>\n      <td>Sahithi</td>\n      <td>56</td>\n      <td>43</td>\n      <td>71</td>\n      <td>54</td>\n    </tr>\n    <tr>\n      <th>2</th>\n      <td>Bansal</td>\n      <td>33</td>\n      <td>23</td>\n      <td>56</td>\n      <td>56</td>\n    </tr>\n    <tr>\n      <th>3</th>\n      <td>Sibi</td>\n      <td>78</td>\n      <td>65</td>\n      <td>32</td>\n      <td>78</td>\n    </tr>\n  </tbody>\n</table>\n</div>"
          },
          "metadata": {}
        }
      ]
    },
    {
      "cell_type": "markdown",
      "source": "Reshaping DataFrame",
      "metadata": {}
    },
    {
      "cell_type": "code",
      "source": "df.shape   #returns tuple (rows, columns)",
      "metadata": {
        "trusted": true
      },
      "execution_count": 4,
      "outputs": [
        {
          "execution_count": 4,
          "output_type": "execute_result",
          "data": {
            "text/plain": "(4, 5)"
          },
          "metadata": {}
        }
      ]
    },
    {
      "cell_type": "code",
      "source": "#Adding New Column\ndf['Environmental_Science'] = pd.Series([40,50,70,80])\ndf",
      "metadata": {
        "trusted": true
      },
      "execution_count": 5,
      "outputs": [
        {
          "execution_count": 5,
          "output_type": "execute_result",
          "data": {
            "text/plain": "  Student_Name  English  Hindi  Science  Social  Environmental_Science\n0     Kanishka      100     87       93      90                     40\n1      Sahithi       56     43       71      54                     50\n2       Bansal       33     23       56      56                     70\n3         Sibi       78     65       32      78                     80",
            "text/html": "<div>\n<style scoped>\n    .dataframe tbody tr th:only-of-type {\n        vertical-align: middle;\n    }\n\n    .dataframe tbody tr th {\n        vertical-align: top;\n    }\n\n    .dataframe thead th {\n        text-align: right;\n    }\n</style>\n<table border=\"1\" class=\"dataframe\">\n  <thead>\n    <tr style=\"text-align: right;\">\n      <th></th>\n      <th>Student_Name</th>\n      <th>English</th>\n      <th>Hindi</th>\n      <th>Science</th>\n      <th>Social</th>\n      <th>Environmental_Science</th>\n    </tr>\n  </thead>\n  <tbody>\n    <tr>\n      <th>0</th>\n      <td>Kanishka</td>\n      <td>100</td>\n      <td>87</td>\n      <td>93</td>\n      <td>90</td>\n      <td>40</td>\n    </tr>\n    <tr>\n      <th>1</th>\n      <td>Sahithi</td>\n      <td>56</td>\n      <td>43</td>\n      <td>71</td>\n      <td>54</td>\n      <td>50</td>\n    </tr>\n    <tr>\n      <th>2</th>\n      <td>Bansal</td>\n      <td>33</td>\n      <td>23</td>\n      <td>56</td>\n      <td>56</td>\n      <td>70</td>\n    </tr>\n    <tr>\n      <th>3</th>\n      <td>Sibi</td>\n      <td>78</td>\n      <td>65</td>\n      <td>32</td>\n      <td>78</td>\n      <td>80</td>\n    </tr>\n  </tbody>\n</table>\n</div>"
          },
          "metadata": {}
        }
      ]
    },
    {
      "cell_type": "code",
      "source": "#Derving a New Column out of existing Columns\ndf['Avg_Marks'] = (df['English']+df['Hindi']+df['Science']+df['Social']+df['Environmental_Science'])/5\ndf",
      "metadata": {
        "trusted": true
      },
      "execution_count": 6,
      "outputs": [
        {
          "execution_count": 6,
          "output_type": "execute_result",
          "data": {
            "text/plain": "  Student_Name  English  Hindi  Science  Social  Environmental_Science  \\\n0     Kanishka      100     87       93      90                     40   \n1      Sahithi       56     43       71      54                     50   \n2       Bansal       33     23       56      56                     70   \n3         Sibi       78     65       32      78                     80   \n\n   Avg_Marks  \n0       82.0  \n1       54.8  \n2       47.6  \n3       66.6  ",
            "text/html": "<div>\n<style scoped>\n    .dataframe tbody tr th:only-of-type {\n        vertical-align: middle;\n    }\n\n    .dataframe tbody tr th {\n        vertical-align: top;\n    }\n\n    .dataframe thead th {\n        text-align: right;\n    }\n</style>\n<table border=\"1\" class=\"dataframe\">\n  <thead>\n    <tr style=\"text-align: right;\">\n      <th></th>\n      <th>Student_Name</th>\n      <th>English</th>\n      <th>Hindi</th>\n      <th>Science</th>\n      <th>Social</th>\n      <th>Environmental_Science</th>\n      <th>Avg_Marks</th>\n    </tr>\n  </thead>\n  <tbody>\n    <tr>\n      <th>0</th>\n      <td>Kanishka</td>\n      <td>100</td>\n      <td>87</td>\n      <td>93</td>\n      <td>90</td>\n      <td>40</td>\n      <td>82.0</td>\n    </tr>\n    <tr>\n      <th>1</th>\n      <td>Sahithi</td>\n      <td>56</td>\n      <td>43</td>\n      <td>71</td>\n      <td>54</td>\n      <td>50</td>\n      <td>54.8</td>\n    </tr>\n    <tr>\n      <th>2</th>\n      <td>Bansal</td>\n      <td>33</td>\n      <td>23</td>\n      <td>56</td>\n      <td>56</td>\n      <td>70</td>\n      <td>47.6</td>\n    </tr>\n    <tr>\n      <th>3</th>\n      <td>Sibi</td>\n      <td>78</td>\n      <td>65</td>\n      <td>32</td>\n      <td>78</td>\n      <td>80</td>\n      <td>66.6</td>\n    </tr>\n  </tbody>\n</table>\n</div>"
          },
          "metadata": {}
        }
      ]
    },
    {
      "cell_type": "code",
      "source": "def pass_fail_status(eng,hin,sci,soc,es):\n    if((eng>=35) and (hin>=35) and (sci>=35) and (soc>=35) and (es>=35)):\n        return 'P'\n    else:\n        return 'F'",
      "metadata": {
        "trusted": true
      },
      "execution_count": 7,
      "outputs": []
    },
    {
      "cell_type": "code",
      "source": "#Deriving a new column out of existing by applying a function\ndf['STATUS'] = df.apply(lambda r: pass_fail_status(r.English,r.Hindi,r.Science,r.Social,r.Environmental_Science), axis=1)\ndf",
      "metadata": {
        "trusted": true
      },
      "execution_count": 10,
      "outputs": [
        {
          "execution_count": 10,
          "output_type": "execute_result",
          "data": {
            "text/plain": "  Student_Name  English  Hindi  Science  Social  Environmental_Science  \\\n0     Kanishka      100     87       93      90                     40   \n1      Sahithi       56     43       71      54                     50   \n2       Bansal       33     23       56      56                     70   \n3         Sibi       78     65       32      78                     80   \n\n   Avg_Marks STATUS  \n0       82.0      P  \n1       54.8      P  \n2       47.6      F  \n3       66.6      F  ",
            "text/html": "<div>\n<style scoped>\n    .dataframe tbody tr th:only-of-type {\n        vertical-align: middle;\n    }\n\n    .dataframe tbody tr th {\n        vertical-align: top;\n    }\n\n    .dataframe thead th {\n        text-align: right;\n    }\n</style>\n<table border=\"1\" class=\"dataframe\">\n  <thead>\n    <tr style=\"text-align: right;\">\n      <th></th>\n      <th>Student_Name</th>\n      <th>English</th>\n      <th>Hindi</th>\n      <th>Science</th>\n      <th>Social</th>\n      <th>Environmental_Science</th>\n      <th>Avg_Marks</th>\n      <th>STATUS</th>\n    </tr>\n  </thead>\n  <tbody>\n    <tr>\n      <th>0</th>\n      <td>Kanishka</td>\n      <td>100</td>\n      <td>87</td>\n      <td>93</td>\n      <td>90</td>\n      <td>40</td>\n      <td>82.0</td>\n      <td>P</td>\n    </tr>\n    <tr>\n      <th>1</th>\n      <td>Sahithi</td>\n      <td>56</td>\n      <td>43</td>\n      <td>71</td>\n      <td>54</td>\n      <td>50</td>\n      <td>54.8</td>\n      <td>P</td>\n    </tr>\n    <tr>\n      <th>2</th>\n      <td>Bansal</td>\n      <td>33</td>\n      <td>23</td>\n      <td>56</td>\n      <td>56</td>\n      <td>70</td>\n      <td>47.6</td>\n      <td>F</td>\n    </tr>\n    <tr>\n      <th>3</th>\n      <td>Sibi</td>\n      <td>78</td>\n      <td>65</td>\n      <td>32</td>\n      <td>78</td>\n      <td>80</td>\n      <td>66.6</td>\n      <td>F</td>\n    </tr>\n  </tbody>\n</table>\n</div>"
          },
          "metadata": {}
        }
      ]
    },
    {
      "cell_type": "code",
      "source": "df.shape",
      "metadata": {
        "trusted": true
      },
      "execution_count": 11,
      "outputs": [
        {
          "execution_count": 11,
          "output_type": "execute_result",
          "data": {
            "text/plain": "(4, 8)"
          },
          "metadata": {}
        }
      ]
    },
    {
      "cell_type": "code",
      "source": "df.drop(columns=['Avg_Marks'], inplace=True)\n#df = df.drop(columns=['Avg_Marks'])",
      "metadata": {
        "trusted": true
      },
      "execution_count": 12,
      "outputs": []
    },
    {
      "cell_type": "code",
      "source": "df",
      "metadata": {
        "trusted": true
      },
      "execution_count": 13,
      "outputs": [
        {
          "execution_count": 13,
          "output_type": "execute_result",
          "data": {
            "text/plain": "  Student_Name  English  Hindi  Science  Social  Environmental_Science STATUS\n0     Kanishka      100     87       93      90                     40      P\n1      Sahithi       56     43       71      54                     50      P\n2       Bansal       33     23       56      56                     70      F\n3         Sibi       78     65       32      78                     80      F",
            "text/html": "<div>\n<style scoped>\n    .dataframe tbody tr th:only-of-type {\n        vertical-align: middle;\n    }\n\n    .dataframe tbody tr th {\n        vertical-align: top;\n    }\n\n    .dataframe thead th {\n        text-align: right;\n    }\n</style>\n<table border=\"1\" class=\"dataframe\">\n  <thead>\n    <tr style=\"text-align: right;\">\n      <th></th>\n      <th>Student_Name</th>\n      <th>English</th>\n      <th>Hindi</th>\n      <th>Science</th>\n      <th>Social</th>\n      <th>Environmental_Science</th>\n      <th>STATUS</th>\n    </tr>\n  </thead>\n  <tbody>\n    <tr>\n      <th>0</th>\n      <td>Kanishka</td>\n      <td>100</td>\n      <td>87</td>\n      <td>93</td>\n      <td>90</td>\n      <td>40</td>\n      <td>P</td>\n    </tr>\n    <tr>\n      <th>1</th>\n      <td>Sahithi</td>\n      <td>56</td>\n      <td>43</td>\n      <td>71</td>\n      <td>54</td>\n      <td>50</td>\n      <td>P</td>\n    </tr>\n    <tr>\n      <th>2</th>\n      <td>Bansal</td>\n      <td>33</td>\n      <td>23</td>\n      <td>56</td>\n      <td>56</td>\n      <td>70</td>\n      <td>F</td>\n    </tr>\n    <tr>\n      <th>3</th>\n      <td>Sibi</td>\n      <td>78</td>\n      <td>65</td>\n      <td>32</td>\n      <td>78</td>\n      <td>80</td>\n      <td>F</td>\n    </tr>\n  </tbody>\n</table>\n</div>"
          },
          "metadata": {}
        }
      ]
    },
    {
      "cell_type": "code",
      "source": "#Rename the Column Names\ndf.rename(columns={'Student_Name':'Name', 'Environmental_Science':'Environmental'}, inplace=True)",
      "metadata": {
        "trusted": true
      },
      "execution_count": 14,
      "outputs": []
    },
    {
      "cell_type": "code",
      "source": "df",
      "metadata": {
        "trusted": true
      },
      "execution_count": 15,
      "outputs": [
        {
          "execution_count": 15,
          "output_type": "execute_result",
          "data": {
            "text/plain": "       Name  English  Hindi  Science  Social  Environmental STATUS\n0  Kanishka      100     87       93      90             40      P\n1   Sahithi       56     43       71      54             50      P\n2    Bansal       33     23       56      56             70      F\n3      Sibi       78     65       32      78             80      F",
            "text/html": "<div>\n<style scoped>\n    .dataframe tbody tr th:only-of-type {\n        vertical-align: middle;\n    }\n\n    .dataframe tbody tr th {\n        vertical-align: top;\n    }\n\n    .dataframe thead th {\n        text-align: right;\n    }\n</style>\n<table border=\"1\" class=\"dataframe\">\n  <thead>\n    <tr style=\"text-align: right;\">\n      <th></th>\n      <th>Name</th>\n      <th>English</th>\n      <th>Hindi</th>\n      <th>Science</th>\n      <th>Social</th>\n      <th>Environmental</th>\n      <th>STATUS</th>\n    </tr>\n  </thead>\n  <tbody>\n    <tr>\n      <th>0</th>\n      <td>Kanishka</td>\n      <td>100</td>\n      <td>87</td>\n      <td>93</td>\n      <td>90</td>\n      <td>40</td>\n      <td>P</td>\n    </tr>\n    <tr>\n      <th>1</th>\n      <td>Sahithi</td>\n      <td>56</td>\n      <td>43</td>\n      <td>71</td>\n      <td>54</td>\n      <td>50</td>\n      <td>P</td>\n    </tr>\n    <tr>\n      <th>2</th>\n      <td>Bansal</td>\n      <td>33</td>\n      <td>23</td>\n      <td>56</td>\n      <td>56</td>\n      <td>70</td>\n      <td>F</td>\n    </tr>\n    <tr>\n      <th>3</th>\n      <td>Sibi</td>\n      <td>78</td>\n      <td>65</td>\n      <td>32</td>\n      <td>78</td>\n      <td>80</td>\n      <td>F</td>\n    </tr>\n  </tbody>\n</table>\n</div>"
          },
          "metadata": {}
        }
      ]
    },
    {
      "cell_type": "code",
      "source": "#Taking Subset of a DataFrame with range of indexes\ndf1 = df.iloc[1:3]\ndf1",
      "metadata": {
        "trusted": true
      },
      "execution_count": 16,
      "outputs": [
        {
          "execution_count": 16,
          "output_type": "execute_result",
          "data": {
            "text/plain": "      Name  English  Hindi  Science  Social  Environmental STATUS\n1  Sahithi       56     43       71      54             50      P\n2   Bansal       33     23       56      56             70      F",
            "text/html": "<div>\n<style scoped>\n    .dataframe tbody tr th:only-of-type {\n        vertical-align: middle;\n    }\n\n    .dataframe tbody tr th {\n        vertical-align: top;\n    }\n\n    .dataframe thead th {\n        text-align: right;\n    }\n</style>\n<table border=\"1\" class=\"dataframe\">\n  <thead>\n    <tr style=\"text-align: right;\">\n      <th></th>\n      <th>Name</th>\n      <th>English</th>\n      <th>Hindi</th>\n      <th>Science</th>\n      <th>Social</th>\n      <th>Environmental</th>\n      <th>STATUS</th>\n    </tr>\n  </thead>\n  <tbody>\n    <tr>\n      <th>1</th>\n      <td>Sahithi</td>\n      <td>56</td>\n      <td>43</td>\n      <td>71</td>\n      <td>54</td>\n      <td>50</td>\n      <td>P</td>\n    </tr>\n    <tr>\n      <th>2</th>\n      <td>Bansal</td>\n      <td>33</td>\n      <td>23</td>\n      <td>56</td>\n      <td>56</td>\n      <td>70</td>\n      <td>F</td>\n    </tr>\n  </tbody>\n</table>\n</div>"
          },
          "metadata": {}
        }
      ]
    },
    {
      "cell_type": "code",
      "source": "df2 = df[df['English']>60]\ndf2",
      "metadata": {
        "trusted": true
      },
      "execution_count": 17,
      "outputs": [
        {
          "execution_count": 17,
          "output_type": "execute_result",
          "data": {
            "text/plain": "       Name  English  Hindi  Science  Social  Environmental STATUS\n0  Kanishka      100     87       93      90             40      P\n3      Sibi       78     65       32      78             80      F",
            "text/html": "<div>\n<style scoped>\n    .dataframe tbody tr th:only-of-type {\n        vertical-align: middle;\n    }\n\n    .dataframe tbody tr th {\n        vertical-align: top;\n    }\n\n    .dataframe thead th {\n        text-align: right;\n    }\n</style>\n<table border=\"1\" class=\"dataframe\">\n  <thead>\n    <tr style=\"text-align: right;\">\n      <th></th>\n      <th>Name</th>\n      <th>English</th>\n      <th>Hindi</th>\n      <th>Science</th>\n      <th>Social</th>\n      <th>Environmental</th>\n      <th>STATUS</th>\n    </tr>\n  </thead>\n  <tbody>\n    <tr>\n      <th>0</th>\n      <td>Kanishka</td>\n      <td>100</td>\n      <td>87</td>\n      <td>93</td>\n      <td>90</td>\n      <td>40</td>\n      <td>P</td>\n    </tr>\n    <tr>\n      <th>3</th>\n      <td>Sibi</td>\n      <td>78</td>\n      <td>65</td>\n      <td>32</td>\n      <td>78</td>\n      <td>80</td>\n      <td>F</td>\n    </tr>\n  </tbody>\n</table>\n</div>"
          },
          "metadata": {}
        }
      ]
    },
    {
      "cell_type": "code",
      "source": "df3 = df[ (df['English']>60) & (df['Science']>60)]\ndf3",
      "metadata": {
        "trusted": true
      },
      "execution_count": 19,
      "outputs": [
        {
          "execution_count": 19,
          "output_type": "execute_result",
          "data": {
            "text/plain": "       Name  English  Hindi  Science  Social  Environmental STATUS\n0  Kanishka      100     87       93      90             40      P",
            "text/html": "<div>\n<style scoped>\n    .dataframe tbody tr th:only-of-type {\n        vertical-align: middle;\n    }\n\n    .dataframe tbody tr th {\n        vertical-align: top;\n    }\n\n    .dataframe thead th {\n        text-align: right;\n    }\n</style>\n<table border=\"1\" class=\"dataframe\">\n  <thead>\n    <tr style=\"text-align: right;\">\n      <th></th>\n      <th>Name</th>\n      <th>English</th>\n      <th>Hindi</th>\n      <th>Science</th>\n      <th>Social</th>\n      <th>Environmental</th>\n      <th>STATUS</th>\n    </tr>\n  </thead>\n  <tbody>\n    <tr>\n      <th>0</th>\n      <td>Kanishka</td>\n      <td>100</td>\n      <td>87</td>\n      <td>93</td>\n      <td>90</td>\n      <td>40</td>\n      <td>P</td>\n    </tr>\n  </tbody>\n</table>\n</div>"
          },
          "metadata": {}
        }
      ]
    },
    {
      "cell_type": "markdown",
      "source": "Grouping of Rows from DataFrame",
      "metadata": {}
    },
    {
      "cell_type": "code",
      "source": "df",
      "metadata": {
        "trusted": true
      },
      "execution_count": 20,
      "outputs": [
        {
          "execution_count": 20,
          "output_type": "execute_result",
          "data": {
            "text/plain": "       Name  English  Hindi  Science  Social  Environmental STATUS\n0  Kanishka      100     87       93      90             40      P\n1   Sahithi       56     43       71      54             50      P\n2    Bansal       33     23       56      56             70      F\n3      Sibi       78     65       32      78             80      F",
            "text/html": "<div>\n<style scoped>\n    .dataframe tbody tr th:only-of-type {\n        vertical-align: middle;\n    }\n\n    .dataframe tbody tr th {\n        vertical-align: top;\n    }\n\n    .dataframe thead th {\n        text-align: right;\n    }\n</style>\n<table border=\"1\" class=\"dataframe\">\n  <thead>\n    <tr style=\"text-align: right;\">\n      <th></th>\n      <th>Name</th>\n      <th>English</th>\n      <th>Hindi</th>\n      <th>Science</th>\n      <th>Social</th>\n      <th>Environmental</th>\n      <th>STATUS</th>\n    </tr>\n  </thead>\n  <tbody>\n    <tr>\n      <th>0</th>\n      <td>Kanishka</td>\n      <td>100</td>\n      <td>87</td>\n      <td>93</td>\n      <td>90</td>\n      <td>40</td>\n      <td>P</td>\n    </tr>\n    <tr>\n      <th>1</th>\n      <td>Sahithi</td>\n      <td>56</td>\n      <td>43</td>\n      <td>71</td>\n      <td>54</td>\n      <td>50</td>\n      <td>P</td>\n    </tr>\n    <tr>\n      <th>2</th>\n      <td>Bansal</td>\n      <td>33</td>\n      <td>23</td>\n      <td>56</td>\n      <td>56</td>\n      <td>70</td>\n      <td>F</td>\n    </tr>\n    <tr>\n      <th>3</th>\n      <td>Sibi</td>\n      <td>78</td>\n      <td>65</td>\n      <td>32</td>\n      <td>78</td>\n      <td>80</td>\n      <td>F</td>\n    </tr>\n  </tbody>\n</table>\n</div>"
          },
          "metadata": {}
        }
      ]
    },
    {
      "cell_type": "code",
      "source": "df_group = df.groupby(by='STATUS')\ndf_group.head()",
      "metadata": {
        "trusted": true
      },
      "execution_count": 22,
      "outputs": [
        {
          "execution_count": 22,
          "output_type": "execute_result",
          "data": {
            "text/plain": "       Name  English  Hindi  Science  Social  Environmental STATUS\n0  Kanishka      100     87       93      90             40      P\n1   Sahithi       56     43       71      54             50      P\n2    Bansal       33     23       56      56             70      F\n3      Sibi       78     65       32      78             80      F",
            "text/html": "<div>\n<style scoped>\n    .dataframe tbody tr th:only-of-type {\n        vertical-align: middle;\n    }\n\n    .dataframe tbody tr th {\n        vertical-align: top;\n    }\n\n    .dataframe thead th {\n        text-align: right;\n    }\n</style>\n<table border=\"1\" class=\"dataframe\">\n  <thead>\n    <tr style=\"text-align: right;\">\n      <th></th>\n      <th>Name</th>\n      <th>English</th>\n      <th>Hindi</th>\n      <th>Science</th>\n      <th>Social</th>\n      <th>Environmental</th>\n      <th>STATUS</th>\n    </tr>\n  </thead>\n  <tbody>\n    <tr>\n      <th>0</th>\n      <td>Kanishka</td>\n      <td>100</td>\n      <td>87</td>\n      <td>93</td>\n      <td>90</td>\n      <td>40</td>\n      <td>P</td>\n    </tr>\n    <tr>\n      <th>1</th>\n      <td>Sahithi</td>\n      <td>56</td>\n      <td>43</td>\n      <td>71</td>\n      <td>54</td>\n      <td>50</td>\n      <td>P</td>\n    </tr>\n    <tr>\n      <th>2</th>\n      <td>Bansal</td>\n      <td>33</td>\n      <td>23</td>\n      <td>56</td>\n      <td>56</td>\n      <td>70</td>\n      <td>F</td>\n    </tr>\n    <tr>\n      <th>3</th>\n      <td>Sibi</td>\n      <td>78</td>\n      <td>65</td>\n      <td>32</td>\n      <td>78</td>\n      <td>80</td>\n      <td>F</td>\n    </tr>\n  </tbody>\n</table>\n</div>"
          },
          "metadata": {}
        }
      ]
    },
    {
      "cell_type": "code",
      "source": "df['Gender'] = pd.Series(data=['F','F','M','M'])",
      "metadata": {
        "trusted": true
      },
      "execution_count": 25,
      "outputs": []
    },
    {
      "cell_type": "code",
      "source": "df_group = df.groupby(by=['STATUS','Gender'])\ndf_group.head()",
      "metadata": {
        "trusted": true
      },
      "execution_count": 28,
      "outputs": [
        {
          "execution_count": 28,
          "output_type": "execute_result",
          "data": {
            "text/plain": "       Name  English  Hindi  Science  Social  Environmental STATUS Gender\n0  Kanishka      100     87       93      90             40      P      F\n1   Sahithi       56     43       71      54             50      P      F\n2    Bansal       33     23       56      56             70      F      M\n3      Sibi       78     65       32      78             80      F      M",
            "text/html": "<div>\n<style scoped>\n    .dataframe tbody tr th:only-of-type {\n        vertical-align: middle;\n    }\n\n    .dataframe tbody tr th {\n        vertical-align: top;\n    }\n\n    .dataframe thead th {\n        text-align: right;\n    }\n</style>\n<table border=\"1\" class=\"dataframe\">\n  <thead>\n    <tr style=\"text-align: right;\">\n      <th></th>\n      <th>Name</th>\n      <th>English</th>\n      <th>Hindi</th>\n      <th>Science</th>\n      <th>Social</th>\n      <th>Environmental</th>\n      <th>STATUS</th>\n      <th>Gender</th>\n    </tr>\n  </thead>\n  <tbody>\n    <tr>\n      <th>0</th>\n      <td>Kanishka</td>\n      <td>100</td>\n      <td>87</td>\n      <td>93</td>\n      <td>90</td>\n      <td>40</td>\n      <td>P</td>\n      <td>F</td>\n    </tr>\n    <tr>\n      <th>1</th>\n      <td>Sahithi</td>\n      <td>56</td>\n      <td>43</td>\n      <td>71</td>\n      <td>54</td>\n      <td>50</td>\n      <td>P</td>\n      <td>F</td>\n    </tr>\n    <tr>\n      <th>2</th>\n      <td>Bansal</td>\n      <td>33</td>\n      <td>23</td>\n      <td>56</td>\n      <td>56</td>\n      <td>70</td>\n      <td>F</td>\n      <td>M</td>\n    </tr>\n    <tr>\n      <th>3</th>\n      <td>Sibi</td>\n      <td>78</td>\n      <td>65</td>\n      <td>32</td>\n      <td>78</td>\n      <td>80</td>\n      <td>F</td>\n      <td>M</td>\n    </tr>\n  </tbody>\n</table>\n</div>"
          },
          "metadata": {}
        }
      ]
    },
    {
      "cell_type": "code",
      "source": "#Groupby with Aggregate Operations\ndf_group = df.groupby(by=['STATUS','Gender']).agg({'English':['mean','min','max']})\ndf_group.head(10)",
      "metadata": {
        "trusted": true
      },
      "execution_count": 27,
      "outputs": [
        {
          "execution_count": 27,
          "output_type": "execute_result",
          "data": {
            "text/plain": "              English         \n                 mean min  max\nSTATUS Gender                 \nF      M         55.5  33   78\nP      F         78.0  56  100",
            "text/html": "<div>\n<style scoped>\n    .dataframe tbody tr th:only-of-type {\n        vertical-align: middle;\n    }\n\n    .dataframe tbody tr th {\n        vertical-align: top;\n    }\n\n    .dataframe thead tr th {\n        text-align: left;\n    }\n\n    .dataframe thead tr:last-of-type th {\n        text-align: right;\n    }\n</style>\n<table border=\"1\" class=\"dataframe\">\n  <thead>\n    <tr>\n      <th></th>\n      <th></th>\n      <th colspan=\"3\" halign=\"left\">English</th>\n    </tr>\n    <tr>\n      <th></th>\n      <th></th>\n      <th>mean</th>\n      <th>min</th>\n      <th>max</th>\n    </tr>\n    <tr>\n      <th>STATUS</th>\n      <th>Gender</th>\n      <th></th>\n      <th></th>\n      <th></th>\n    </tr>\n  </thead>\n  <tbody>\n    <tr>\n      <th>F</th>\n      <th>M</th>\n      <td>55.5</td>\n      <td>33</td>\n      <td>78</td>\n    </tr>\n    <tr>\n      <th>P</th>\n      <th>F</th>\n      <td>78.0</td>\n      <td>56</td>\n      <td>100</td>\n    </tr>\n  </tbody>\n</table>\n</div>"
          },
          "metadata": {}
        }
      ]
    },
    {
      "cell_type": "markdown",
      "source": "Merging Operations (SQL Like Merging)",
      "metadata": {}
    },
    {
      "cell_type": "code",
      "source": "names = ['Kanishka', 'Sahithi','Bansal', 'Sibi']\neng_marks = [100,56,33,78]\nhindi_marks = [87,43,23,65]\nscience_marks = [93,71,56,32]\nsocial_marks = [90,54,56,78]\nd = {'Student_Name':names,'English':eng_marks, 'Hindi':hindi_marks,'Science':science_marks, 'Social':social_marks}\ndf1 = pd.DataFrame(data=d)",
      "metadata": {
        "trusted": true
      },
      "execution_count": 30,
      "outputs": []
    },
    {
      "cell_type": "code",
      "source": "names = ['Kanishka', 'Sahithi','Bansal','Anand']\ncul_act = [True,False,True,False]\npubser = [0,1,1,0]\nd = {'Student_Name':names,'Cultural':cul_act, 'PublicService':pubser}\ndf2 = pd.DataFrame(data=d)",
      "metadata": {
        "trusted": true
      },
      "execution_count": 37,
      "outputs": []
    },
    {
      "cell_type": "code",
      "source": "df1",
      "metadata": {
        "trusted": true
      },
      "execution_count": 38,
      "outputs": [
        {
          "execution_count": 38,
          "output_type": "execute_result",
          "data": {
            "text/plain": "  Student_Name  English  Hindi  Science  Social\n0     Kanishka      100     87       93      90\n1      Sahithi       56     43       71      54\n2       Bansal       33     23       56      56\n3         Sibi       78     65       32      78",
            "text/html": "<div>\n<style scoped>\n    .dataframe tbody tr th:only-of-type {\n        vertical-align: middle;\n    }\n\n    .dataframe tbody tr th {\n        vertical-align: top;\n    }\n\n    .dataframe thead th {\n        text-align: right;\n    }\n</style>\n<table border=\"1\" class=\"dataframe\">\n  <thead>\n    <tr style=\"text-align: right;\">\n      <th></th>\n      <th>Student_Name</th>\n      <th>English</th>\n      <th>Hindi</th>\n      <th>Science</th>\n      <th>Social</th>\n    </tr>\n  </thead>\n  <tbody>\n    <tr>\n      <th>0</th>\n      <td>Kanishka</td>\n      <td>100</td>\n      <td>87</td>\n      <td>93</td>\n      <td>90</td>\n    </tr>\n    <tr>\n      <th>1</th>\n      <td>Sahithi</td>\n      <td>56</td>\n      <td>43</td>\n      <td>71</td>\n      <td>54</td>\n    </tr>\n    <tr>\n      <th>2</th>\n      <td>Bansal</td>\n      <td>33</td>\n      <td>23</td>\n      <td>56</td>\n      <td>56</td>\n    </tr>\n    <tr>\n      <th>3</th>\n      <td>Sibi</td>\n      <td>78</td>\n      <td>65</td>\n      <td>32</td>\n      <td>78</td>\n    </tr>\n  </tbody>\n</table>\n</div>"
          },
          "metadata": {}
        }
      ]
    },
    {
      "cell_type": "code",
      "source": "df2",
      "metadata": {
        "trusted": true
      },
      "execution_count": 39,
      "outputs": [
        {
          "execution_count": 39,
          "output_type": "execute_result",
          "data": {
            "text/plain": "  Student_Name  Cultural  PublicService\n0     Kanishka      True              0\n1      Sahithi     False              1\n2       Bansal      True              1\n3        Anand     False              0",
            "text/html": "<div>\n<style scoped>\n    .dataframe tbody tr th:only-of-type {\n        vertical-align: middle;\n    }\n\n    .dataframe tbody tr th {\n        vertical-align: top;\n    }\n\n    .dataframe thead th {\n        text-align: right;\n    }\n</style>\n<table border=\"1\" class=\"dataframe\">\n  <thead>\n    <tr style=\"text-align: right;\">\n      <th></th>\n      <th>Student_Name</th>\n      <th>Cultural</th>\n      <th>PublicService</th>\n    </tr>\n  </thead>\n  <tbody>\n    <tr>\n      <th>0</th>\n      <td>Kanishka</td>\n      <td>True</td>\n      <td>0</td>\n    </tr>\n    <tr>\n      <th>1</th>\n      <td>Sahithi</td>\n      <td>False</td>\n      <td>1</td>\n    </tr>\n    <tr>\n      <th>2</th>\n      <td>Bansal</td>\n      <td>True</td>\n      <td>1</td>\n    </tr>\n    <tr>\n      <th>3</th>\n      <td>Anand</td>\n      <td>False</td>\n      <td>0</td>\n    </tr>\n  </tbody>\n</table>\n</div>"
          },
          "metadata": {}
        }
      ]
    },
    {
      "cell_type": "code",
      "source": "# Inner Join (Intersection of df1 & df2)\ndf_intersection = df1.merge(df2, on=\"Student_Name\", how=\"inner\")\ndf_intersection",
      "metadata": {
        "trusted": true
      },
      "execution_count": 40,
      "outputs": [
        {
          "execution_count": 40,
          "output_type": "execute_result",
          "data": {
            "text/plain": "  Student_Name  English  Hindi  Science  Social  Cultural  PublicService\n0     Kanishka      100     87       93      90      True              0\n1      Sahithi       56     43       71      54     False              1\n2       Bansal       33     23       56      56      True              1",
            "text/html": "<div>\n<style scoped>\n    .dataframe tbody tr th:only-of-type {\n        vertical-align: middle;\n    }\n\n    .dataframe tbody tr th {\n        vertical-align: top;\n    }\n\n    .dataframe thead th {\n        text-align: right;\n    }\n</style>\n<table border=\"1\" class=\"dataframe\">\n  <thead>\n    <tr style=\"text-align: right;\">\n      <th></th>\n      <th>Student_Name</th>\n      <th>English</th>\n      <th>Hindi</th>\n      <th>Science</th>\n      <th>Social</th>\n      <th>Cultural</th>\n      <th>PublicService</th>\n    </tr>\n  </thead>\n  <tbody>\n    <tr>\n      <th>0</th>\n      <td>Kanishka</td>\n      <td>100</td>\n      <td>87</td>\n      <td>93</td>\n      <td>90</td>\n      <td>True</td>\n      <td>0</td>\n    </tr>\n    <tr>\n      <th>1</th>\n      <td>Sahithi</td>\n      <td>56</td>\n      <td>43</td>\n      <td>71</td>\n      <td>54</td>\n      <td>False</td>\n      <td>1</td>\n    </tr>\n    <tr>\n      <th>2</th>\n      <td>Bansal</td>\n      <td>33</td>\n      <td>23</td>\n      <td>56</td>\n      <td>56</td>\n      <td>True</td>\n      <td>1</td>\n    </tr>\n  </tbody>\n</table>\n</div>"
          },
          "metadata": {}
        }
      ]
    },
    {
      "cell_type": "code",
      "source": "# LeftOuter Join\ndf_leftouter = df1.merge(df2, on=\"Student_Name\", how=\"left\")\ndf_leftouter",
      "metadata": {
        "trusted": true
      },
      "execution_count": 41,
      "outputs": [
        {
          "execution_count": 41,
          "output_type": "execute_result",
          "data": {
            "text/plain": "  Student_Name  English  Hindi  Science  Social Cultural  PublicService\n0     Kanishka      100     87       93      90     True            0.0\n1      Sahithi       56     43       71      54    False            1.0\n2       Bansal       33     23       56      56     True            1.0\n3         Sibi       78     65       32      78      NaN            NaN",
            "text/html": "<div>\n<style scoped>\n    .dataframe tbody tr th:only-of-type {\n        vertical-align: middle;\n    }\n\n    .dataframe tbody tr th {\n        vertical-align: top;\n    }\n\n    .dataframe thead th {\n        text-align: right;\n    }\n</style>\n<table border=\"1\" class=\"dataframe\">\n  <thead>\n    <tr style=\"text-align: right;\">\n      <th></th>\n      <th>Student_Name</th>\n      <th>English</th>\n      <th>Hindi</th>\n      <th>Science</th>\n      <th>Social</th>\n      <th>Cultural</th>\n      <th>PublicService</th>\n    </tr>\n  </thead>\n  <tbody>\n    <tr>\n      <th>0</th>\n      <td>Kanishka</td>\n      <td>100</td>\n      <td>87</td>\n      <td>93</td>\n      <td>90</td>\n      <td>True</td>\n      <td>0.0</td>\n    </tr>\n    <tr>\n      <th>1</th>\n      <td>Sahithi</td>\n      <td>56</td>\n      <td>43</td>\n      <td>71</td>\n      <td>54</td>\n      <td>False</td>\n      <td>1.0</td>\n    </tr>\n    <tr>\n      <th>2</th>\n      <td>Bansal</td>\n      <td>33</td>\n      <td>23</td>\n      <td>56</td>\n      <td>56</td>\n      <td>True</td>\n      <td>1.0</td>\n    </tr>\n    <tr>\n      <th>3</th>\n      <td>Sibi</td>\n      <td>78</td>\n      <td>65</td>\n      <td>32</td>\n      <td>78</td>\n      <td>NaN</td>\n      <td>NaN</td>\n    </tr>\n  </tbody>\n</table>\n</div>"
          },
          "metadata": {}
        }
      ]
    },
    {
      "cell_type": "code",
      "source": "# RightOuter Join\ndf_rightouter = df1.merge(df2, on=\"Student_Name\", how=\"right\")\ndf_rightouter",
      "metadata": {
        "trusted": true
      },
      "execution_count": 42,
      "outputs": [
        {
          "execution_count": 42,
          "output_type": "execute_result",
          "data": {
            "text/plain": "  Student_Name  English  Hindi  Science  Social  Cultural  PublicService\n0     Kanishka    100.0   87.0     93.0    90.0      True              0\n1      Sahithi     56.0   43.0     71.0    54.0     False              1\n2       Bansal     33.0   23.0     56.0    56.0      True              1\n3        Anand      NaN    NaN      NaN     NaN     False              0",
            "text/html": "<div>\n<style scoped>\n    .dataframe tbody tr th:only-of-type {\n        vertical-align: middle;\n    }\n\n    .dataframe tbody tr th {\n        vertical-align: top;\n    }\n\n    .dataframe thead th {\n        text-align: right;\n    }\n</style>\n<table border=\"1\" class=\"dataframe\">\n  <thead>\n    <tr style=\"text-align: right;\">\n      <th></th>\n      <th>Student_Name</th>\n      <th>English</th>\n      <th>Hindi</th>\n      <th>Science</th>\n      <th>Social</th>\n      <th>Cultural</th>\n      <th>PublicService</th>\n    </tr>\n  </thead>\n  <tbody>\n    <tr>\n      <th>0</th>\n      <td>Kanishka</td>\n      <td>100.0</td>\n      <td>87.0</td>\n      <td>93.0</td>\n      <td>90.0</td>\n      <td>True</td>\n      <td>0</td>\n    </tr>\n    <tr>\n      <th>1</th>\n      <td>Sahithi</td>\n      <td>56.0</td>\n      <td>43.0</td>\n      <td>71.0</td>\n      <td>54.0</td>\n      <td>False</td>\n      <td>1</td>\n    </tr>\n    <tr>\n      <th>2</th>\n      <td>Bansal</td>\n      <td>33.0</td>\n      <td>23.0</td>\n      <td>56.0</td>\n      <td>56.0</td>\n      <td>True</td>\n      <td>1</td>\n    </tr>\n    <tr>\n      <th>3</th>\n      <td>Anand</td>\n      <td>NaN</td>\n      <td>NaN</td>\n      <td>NaN</td>\n      <td>NaN</td>\n      <td>False</td>\n      <td>0</td>\n    </tr>\n  </tbody>\n</table>\n</div>"
          },
          "metadata": {}
        }
      ]
    },
    {
      "cell_type": "code",
      "source": "# FullOuter Join  [Union of df1 & df2]\ndf_fullouter = df1.merge(df2, on=\"Student_Name\", how=\"outer\")\ndf_fullouter",
      "metadata": {
        "trusted": true
      },
      "execution_count": 43,
      "outputs": [
        {
          "execution_count": 43,
          "output_type": "execute_result",
          "data": {
            "text/plain": "  Student_Name  English  Hindi  Science  Social Cultural  PublicService\n0     Kanishka    100.0   87.0     93.0    90.0     True            0.0\n1      Sahithi     56.0   43.0     71.0    54.0    False            1.0\n2       Bansal     33.0   23.0     56.0    56.0     True            1.0\n3         Sibi     78.0   65.0     32.0    78.0      NaN            NaN\n4        Anand      NaN    NaN      NaN     NaN    False            0.0",
            "text/html": "<div>\n<style scoped>\n    .dataframe tbody tr th:only-of-type {\n        vertical-align: middle;\n    }\n\n    .dataframe tbody tr th {\n        vertical-align: top;\n    }\n\n    .dataframe thead th {\n        text-align: right;\n    }\n</style>\n<table border=\"1\" class=\"dataframe\">\n  <thead>\n    <tr style=\"text-align: right;\">\n      <th></th>\n      <th>Student_Name</th>\n      <th>English</th>\n      <th>Hindi</th>\n      <th>Science</th>\n      <th>Social</th>\n      <th>Cultural</th>\n      <th>PublicService</th>\n    </tr>\n  </thead>\n  <tbody>\n    <tr>\n      <th>0</th>\n      <td>Kanishka</td>\n      <td>100.0</td>\n      <td>87.0</td>\n      <td>93.0</td>\n      <td>90.0</td>\n      <td>True</td>\n      <td>0.0</td>\n    </tr>\n    <tr>\n      <th>1</th>\n      <td>Sahithi</td>\n      <td>56.0</td>\n      <td>43.0</td>\n      <td>71.0</td>\n      <td>54.0</td>\n      <td>False</td>\n      <td>1.0</td>\n    </tr>\n    <tr>\n      <th>2</th>\n      <td>Bansal</td>\n      <td>33.0</td>\n      <td>23.0</td>\n      <td>56.0</td>\n      <td>56.0</td>\n      <td>True</td>\n      <td>1.0</td>\n    </tr>\n    <tr>\n      <th>3</th>\n      <td>Sibi</td>\n      <td>78.0</td>\n      <td>65.0</td>\n      <td>32.0</td>\n      <td>78.0</td>\n      <td>NaN</td>\n      <td>NaN</td>\n    </tr>\n    <tr>\n      <th>4</th>\n      <td>Anand</td>\n      <td>NaN</td>\n      <td>NaN</td>\n      <td>NaN</td>\n      <td>NaN</td>\n      <td>False</td>\n      <td>0.0</td>\n    </tr>\n  </tbody>\n</table>\n</div>"
          },
          "metadata": {}
        }
      ]
    },
    {
      "cell_type": "code",
      "source": "# Cross Join\n#df_cross = df1.merge(df2, on=\"Student_Name\", how=\"cross\")\n#df_cross",
      "metadata": {
        "trusted": true
      },
      "execution_count": 45,
      "outputs": []
    },
    {
      "cell_type": "markdown",
      "source": "Combining DataFrames (Horizontally & Vertically",
      "metadata": {}
    },
    {
      "cell_type": "code",
      "source": "names = pd.Series(['A','B','C','D'])\neng = pd.Series([60,70,80,90])\nhin = pd.Series([70,30,20,10])\nd = {'Name':names,'English':eng, 'Hindi':hin}\ndf1 = pd.DataFrame(data=d)\ndf1",
      "metadata": {
        "trusted": true
      },
      "execution_count": 46,
      "outputs": [
        {
          "execution_count": 46,
          "output_type": "execute_result",
          "data": {
            "text/plain": "  Name  English  Hindi\n0    A       60     70\n1    B       70     30\n2    C       80     20\n3    D       90     10",
            "text/html": "<div>\n<style scoped>\n    .dataframe tbody tr th:only-of-type {\n        vertical-align: middle;\n    }\n\n    .dataframe tbody tr th {\n        vertical-align: top;\n    }\n\n    .dataframe thead th {\n        text-align: right;\n    }\n</style>\n<table border=\"1\" class=\"dataframe\">\n  <thead>\n    <tr style=\"text-align: right;\">\n      <th></th>\n      <th>Name</th>\n      <th>English</th>\n      <th>Hindi</th>\n    </tr>\n  </thead>\n  <tbody>\n    <tr>\n      <th>0</th>\n      <td>A</td>\n      <td>60</td>\n      <td>70</td>\n    </tr>\n    <tr>\n      <th>1</th>\n      <td>B</td>\n      <td>70</td>\n      <td>30</td>\n    </tr>\n    <tr>\n      <th>2</th>\n      <td>C</td>\n      <td>80</td>\n      <td>20</td>\n    </tr>\n    <tr>\n      <th>3</th>\n      <td>D</td>\n      <td>90</td>\n      <td>10</td>\n    </tr>\n  </tbody>\n</table>\n</div>"
          },
          "metadata": {}
        }
      ]
    },
    {
      "cell_type": "code",
      "source": "sci = pd.Series([650,40,60,70])\nsoc = pd.Series([40,70,40,50])\nd1 = {'Science':sci,'Social':soc}\ndf2 = pd.DataFrame(data=d1)\ndf2",
      "metadata": {
        "trusted": true
      },
      "execution_count": 47,
      "outputs": [
        {
          "execution_count": 47,
          "output_type": "execute_result",
          "data": {
            "text/plain": "   Science  Social\n0      650      40\n1       40      70\n2       60      40\n3       70      50",
            "text/html": "<div>\n<style scoped>\n    .dataframe tbody tr th:only-of-type {\n        vertical-align: middle;\n    }\n\n    .dataframe tbody tr th {\n        vertical-align: top;\n    }\n\n    .dataframe thead th {\n        text-align: right;\n    }\n</style>\n<table border=\"1\" class=\"dataframe\">\n  <thead>\n    <tr style=\"text-align: right;\">\n      <th></th>\n      <th>Science</th>\n      <th>Social</th>\n    </tr>\n  </thead>\n  <tbody>\n    <tr>\n      <th>0</th>\n      <td>650</td>\n      <td>40</td>\n    </tr>\n    <tr>\n      <th>1</th>\n      <td>40</td>\n      <td>70</td>\n    </tr>\n    <tr>\n      <th>2</th>\n      <td>60</td>\n      <td>40</td>\n    </tr>\n    <tr>\n      <th>3</th>\n      <td>70</td>\n      <td>50</td>\n    </tr>\n  </tbody>\n</table>\n</div>"
          },
          "metadata": {}
        }
      ]
    },
    {
      "cell_type": "code",
      "source": "",
      "metadata": {},
      "execution_count": null,
      "outputs": []
    }
  ]
}