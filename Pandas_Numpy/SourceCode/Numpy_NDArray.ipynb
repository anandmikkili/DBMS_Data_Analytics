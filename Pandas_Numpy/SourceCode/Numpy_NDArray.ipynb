{
  "metadata": {
    "language_info": {
      "codemirror_mode": {
        "name": "python",
        "version": 3
      },
      "file_extension": ".py",
      "mimetype": "text/x-python",
      "name": "python",
      "nbconvert_exporter": "python",
      "pygments_lexer": "ipython3",
      "version": "3.8"
    },
    "kernelspec": {
      "name": "python",
      "display_name": "Python (Pyodide)",
      "language": "python"
    }
  },
  "nbformat_minor": 4,
  "nbformat": 4,
  "cells": [
    {
      "cell_type": "code",
      "source": "import numpy as np",
      "metadata": {
        "trusted": true
      },
      "execution_count": 1,
      "outputs": []
    },
    {
      "cell_type": "markdown",
      "source": "Why we need Numpy?",
      "metadata": {}
    },
    {
      "cell_type": "code",
      "source": "import pandas as pd\ndf = pd.DataFrame(columns=['Age','Score'])",
      "metadata": {
        "trusted": true
      },
      "execution_count": 4,
      "outputs": []
    },
    {
      "cell_type": "code",
      "source": "df.head()",
      "metadata": {
        "trusted": true
      },
      "execution_count": 5,
      "outputs": [
        {
          "execution_count": 5,
          "output_type": "execute_result",
          "data": {
            "text/plain": "Empty DataFrame\nColumns: [Age, Score]\nIndex: []",
            "text/html": "<div>\n<style scoped>\n    .dataframe tbody tr th:only-of-type {\n        vertical-align: middle;\n    }\n\n    .dataframe tbody tr th {\n        vertical-align: top;\n    }\n\n    .dataframe thead th {\n        text-align: right;\n    }\n</style>\n<table border=\"1\" class=\"dataframe\">\n  <thead>\n    <tr style=\"text-align: right;\">\n      <th></th>\n      <th>Age</th>\n      <th>Score</th>\n    </tr>\n  </thead>\n  <tbody>\n  </tbody>\n</table>\n</div>"
          },
          "metadata": {}
        }
      ]
    },
    {
      "cell_type": "code",
      "source": "df['Age'] = np.random.randint(low=0,high=1000000,size=500000)\ndf['Score'] = np.random.randint(low=0,high=100,size=500000)",
      "metadata": {
        "trusted": true
      },
      "execution_count": 7,
      "outputs": []
    },
    {
      "cell_type": "code",
      "source": "df.shape",
      "metadata": {
        "trusted": true
      },
      "execution_count": 8,
      "outputs": [
        {
          "execution_count": 8,
          "output_type": "execute_result",
          "data": {
            "text/plain": "(500000, 2)"
          },
          "metadata": {}
        }
      ]
    },
    {
      "cell_type": "code",
      "source": "df.head()",
      "metadata": {
        "trusted": true
      },
      "execution_count": 10,
      "outputs": [
        {
          "execution_count": 10,
          "output_type": "execute_result",
          "data": {
            "text/plain": "      Age  Score\n0  583902     71\n1  633896     29\n2  272483     59\n3  407539     20\n4  823920     10",
            "text/html": "<div>\n<style scoped>\n    .dataframe tbody tr th:only-of-type {\n        vertical-align: middle;\n    }\n\n    .dataframe tbody tr th {\n        vertical-align: top;\n    }\n\n    .dataframe thead th {\n        text-align: right;\n    }\n</style>\n<table border=\"1\" class=\"dataframe\">\n  <thead>\n    <tr style=\"text-align: right;\">\n      <th></th>\n      <th>Age</th>\n      <th>Score</th>\n    </tr>\n  </thead>\n  <tbody>\n    <tr>\n      <th>0</th>\n      <td>583902</td>\n      <td>71</td>\n    </tr>\n    <tr>\n      <th>1</th>\n      <td>633896</td>\n      <td>29</td>\n    </tr>\n    <tr>\n      <th>2</th>\n      <td>272483</td>\n      <td>59</td>\n    </tr>\n    <tr>\n      <th>3</th>\n      <td>407539</td>\n      <td>20</td>\n    </tr>\n    <tr>\n      <th>4</th>\n      <td>823920</td>\n      <td>10</td>\n    </tr>\n  </tbody>\n</table>\n</div>"
          },
          "metadata": {}
        }
      ]
    },
    {
      "cell_type": "code",
      "source": "def grade(score):\n    if score>=70:\n        return \"A\"\n    elif((score>=50) and (score<70)):\n        return 'B'\n    elif((score>=35) and (score<50)):\n        return 'C'\n    else:\n        return 'D'",
      "metadata": {
        "trusted": true
      },
      "execution_count": 9,
      "outputs": []
    },
    {
      "cell_type": "code",
      "source": "import time\nstart_for = time.time()\ndf['Grade']='F'\nfor i,r in df.iterrows():\n    df.at[i,'Grade'] = grade(r.Score)\nend_for = time.time()\nprint(\"Total Time Taken By ForLoop: \", (end_for - start_for), \"Seconds\")\ndf.head()",
      "metadata": {
        "trusted": true
      },
      "execution_count": 12,
      "outputs": [
        {
          "name": "stdout",
          "text": "Total Time Taken By ForLoop:  146.132000207901 Seconds\n",
          "output_type": "stream"
        },
        {
          "execution_count": 12,
          "output_type": "execute_result",
          "data": {
            "text/plain": "      Age  Score Grade\n0  583902     71     A\n1  633896     29     D\n2  272483     59     B\n3  407539     20     D\n4  823920     10     D",
            "text/html": "<div>\n<style scoped>\n    .dataframe tbody tr th:only-of-type {\n        vertical-align: middle;\n    }\n\n    .dataframe tbody tr th {\n        vertical-align: top;\n    }\n\n    .dataframe thead th {\n        text-align: right;\n    }\n</style>\n<table border=\"1\" class=\"dataframe\">\n  <thead>\n    <tr style=\"text-align: right;\">\n      <th></th>\n      <th>Age</th>\n      <th>Score</th>\n      <th>Grade</th>\n    </tr>\n  </thead>\n  <tbody>\n    <tr>\n      <th>0</th>\n      <td>583902</td>\n      <td>71</td>\n      <td>A</td>\n    </tr>\n    <tr>\n      <th>1</th>\n      <td>633896</td>\n      <td>29</td>\n      <td>D</td>\n    </tr>\n    <tr>\n      <th>2</th>\n      <td>272483</td>\n      <td>59</td>\n      <td>B</td>\n    </tr>\n    <tr>\n      <th>3</th>\n      <td>407539</td>\n      <td>20</td>\n      <td>D</td>\n    </tr>\n    <tr>\n      <th>4</th>\n      <td>823920</td>\n      <td>10</td>\n      <td>D</td>\n    </tr>\n  </tbody>\n</table>\n</div>"
          },
          "metadata": {}
        }
      ]
    },
    {
      "cell_type": "code",
      "source": "df.drop(columns=['Grade'],inplace=True)\ndf.head()",
      "metadata": {
        "trusted": true
      },
      "execution_count": 13,
      "outputs": [
        {
          "execution_count": 13,
          "output_type": "execute_result",
          "data": {
            "text/plain": "      Age  Score\n0  583902     71\n1  633896     29\n2  272483     59\n3  407539     20\n4  823920     10",
            "text/html": "<div>\n<style scoped>\n    .dataframe tbody tr th:only-of-type {\n        vertical-align: middle;\n    }\n\n    .dataframe tbody tr th {\n        vertical-align: top;\n    }\n\n    .dataframe thead th {\n        text-align: right;\n    }\n</style>\n<table border=\"1\" class=\"dataframe\">\n  <thead>\n    <tr style=\"text-align: right;\">\n      <th></th>\n      <th>Age</th>\n      <th>Score</th>\n    </tr>\n  </thead>\n  <tbody>\n    <tr>\n      <th>0</th>\n      <td>583902</td>\n      <td>71</td>\n    </tr>\n    <tr>\n      <th>1</th>\n      <td>633896</td>\n      <td>29</td>\n    </tr>\n    <tr>\n      <th>2</th>\n      <td>272483</td>\n      <td>59</td>\n    </tr>\n    <tr>\n      <th>3</th>\n      <td>407539</td>\n      <td>20</td>\n    </tr>\n    <tr>\n      <th>4</th>\n      <td>823920</td>\n      <td>10</td>\n    </tr>\n  </tbody>\n</table>\n</div>"
          },
          "metadata": {}
        }
      ]
    },
    {
      "cell_type": "code",
      "source": "start_lambda = time.time()\ndf['Grade'] = df.apply(lambda r: grade(r.Score), axis=1)\nend_lambda = time.time()\nprint(\"Total Time Taken By Lambda Function to Execute: \",(end_lambda - start_lambda), \"Seconds\")",
      "metadata": {
        "trusted": true
      },
      "execution_count": 14,
      "outputs": [
        {
          "name": "stdout",
          "text": "Total Time Taken By Lambda Function to Execute:  33.20799994468689 Seconds\n",
          "output_type": "stream"
        }
      ]
    },
    {
      "cell_type": "code",
      "source": "df.drop(columns=['Grade'],inplace=True)\ndf.head()",
      "metadata": {
        "trusted": true
      },
      "execution_count": 15,
      "outputs": [
        {
          "execution_count": 15,
          "output_type": "execute_result",
          "data": {
            "text/plain": "      Age  Score\n0  583902     71\n1  633896     29\n2  272483     59\n3  407539     20\n4  823920     10",
            "text/html": "<div>\n<style scoped>\n    .dataframe tbody tr th:only-of-type {\n        vertical-align: middle;\n    }\n\n    .dataframe tbody tr th {\n        vertical-align: top;\n    }\n\n    .dataframe thead th {\n        text-align: right;\n    }\n</style>\n<table border=\"1\" class=\"dataframe\">\n  <thead>\n    <tr style=\"text-align: right;\">\n      <th></th>\n      <th>Age</th>\n      <th>Score</th>\n    </tr>\n  </thead>\n  <tbody>\n    <tr>\n      <th>0</th>\n      <td>583902</td>\n      <td>71</td>\n    </tr>\n    <tr>\n      <th>1</th>\n      <td>633896</td>\n      <td>29</td>\n    </tr>\n    <tr>\n      <th>2</th>\n      <td>272483</td>\n      <td>59</td>\n    </tr>\n    <tr>\n      <th>3</th>\n      <td>407539</td>\n      <td>20</td>\n    </tr>\n    <tr>\n      <th>4</th>\n      <td>823920</td>\n      <td>10</td>\n    </tr>\n  </tbody>\n</table>\n</div>"
          },
          "metadata": {}
        }
      ]
    },
    {
      "cell_type": "code",
      "source": "start_npv = time.time()\ndf['Grade'] = np.vectorize(grade)(df.Score)\nend_npv = time.time()\nprint(\"Total Time Taken By Lambda Function to Execute: \",(end_npv - start_npv), \"Seconds\")",
      "metadata": {
        "trusted": true
      },
      "execution_count": 16,
      "outputs": [
        {
          "name": "stdout",
          "text": "Total Time Taken By Lambda Function to Execute:  0.685999870300293 Seconds\n",
          "output_type": "stream"
        }
      ]
    },
    {
      "cell_type": "code",
      "source": "df.head()",
      "metadata": {
        "trusted": true
      },
      "execution_count": 17,
      "outputs": [
        {
          "execution_count": 17,
          "output_type": "execute_result",
          "data": {
            "text/plain": "      Age  Score Grade\n0  583902     71     A\n1  633896     29     D\n2  272483     59     B\n3  407539     20     D\n4  823920     10     D",
            "text/html": "<div>\n<style scoped>\n    .dataframe tbody tr th:only-of-type {\n        vertical-align: middle;\n    }\n\n    .dataframe tbody tr th {\n        vertical-align: top;\n    }\n\n    .dataframe thead th {\n        text-align: right;\n    }\n</style>\n<table border=\"1\" class=\"dataframe\">\n  <thead>\n    <tr style=\"text-align: right;\">\n      <th></th>\n      <th>Age</th>\n      <th>Score</th>\n      <th>Grade</th>\n    </tr>\n  </thead>\n  <tbody>\n    <tr>\n      <th>0</th>\n      <td>583902</td>\n      <td>71</td>\n      <td>A</td>\n    </tr>\n    <tr>\n      <th>1</th>\n      <td>633896</td>\n      <td>29</td>\n      <td>D</td>\n    </tr>\n    <tr>\n      <th>2</th>\n      <td>272483</td>\n      <td>59</td>\n      <td>B</td>\n    </tr>\n    <tr>\n      <th>3</th>\n      <td>407539</td>\n      <td>20</td>\n      <td>D</td>\n    </tr>\n    <tr>\n      <th>4</th>\n      <td>823920</td>\n      <td>10</td>\n      <td>D</td>\n    </tr>\n  </tbody>\n</table>\n</div>"
          },
          "metadata": {}
        }
      ]
    },
    {
      "cell_type": "code",
      "source": "#1D\na = np.array([1,2,3,4,5,6,7,8,9,0,-1,-2,-3,-4,-5])",
      "metadata": {
        "trusted": true
      },
      "execution_count": 18,
      "outputs": []
    },
    {
      "cell_type": "code",
      "source": "type(a)",
      "metadata": {
        "trusted": true
      },
      "execution_count": 19,
      "outputs": [
        {
          "execution_count": 19,
          "output_type": "execute_result",
          "data": {
            "text/plain": "numpy.ndarray"
          },
          "metadata": {}
        }
      ]
    },
    {
      "cell_type": "code",
      "source": "#Retrieve elements from 1D\na[0]",
      "metadata": {
        "trusted": true
      },
      "execution_count": 20,
      "outputs": [
        {
          "execution_count": 20,
          "output_type": "execute_result",
          "data": {
            "text/plain": "1"
          },
          "metadata": {}
        }
      ]
    },
    {
      "cell_type": "code",
      "source": "#Iteration over 1D\nfor i in a:\n    print(i)",
      "metadata": {
        "trusted": true
      },
      "execution_count": 21,
      "outputs": [
        {
          "name": "stdout",
          "text": "1\n2\n3\n4\n5\n6\n7\n8\n9\n0\n-1\n-2\n-3\n-4\n-5\n",
          "output_type": "stream"
        }
      ]
    },
    {
      "cell_type": "code",
      "source": "#Slicing on 1D Array\na1 = a[2:7:1]\na1",
      "metadata": {
        "trusted": true
      },
      "execution_count": 22,
      "outputs": [
        {
          "execution_count": 22,
          "output_type": "execute_result",
          "data": {
            "text/plain": "array([3, 4, 5, 6, 7])"
          },
          "metadata": {}
        }
      ]
    },
    {
      "cell_type": "code",
      "source": "a1 = a[2:7:2]\na1",
      "metadata": {
        "trusted": true
      },
      "execution_count": 23,
      "outputs": [
        {
          "execution_count": 23,
          "output_type": "execute_result",
          "data": {
            "text/plain": "array([3, 5, 7])"
          },
          "metadata": {}
        }
      ]
    },
    {
      "cell_type": "code",
      "source": "a1 = a[2:7:3]\na1",
      "metadata": {
        "trusted": true
      },
      "execution_count": 24,
      "outputs": [
        {
          "execution_count": 24,
          "output_type": "execute_result",
          "data": {
            "text/plain": "array([3, 6])"
          },
          "metadata": {}
        }
      ]
    },
    {
      "cell_type": "code",
      "source": "x=[0,5,9]\na2 = a[x]\na2",
      "metadata": {
        "trusted": true
      },
      "execution_count": 26,
      "outputs": [
        {
          "execution_count": 26,
          "output_type": "execute_result",
          "data": {
            "text/plain": "array([1, 6, 0])"
          },
          "metadata": {}
        }
      ]
    },
    {
      "cell_type": "code",
      "source": "#2D Arrays",
      "metadata": {
        "trusted": true
      },
      "execution_count": 27,
      "outputs": []
    },
    {
      "cell_type": "code",
      "source": "a = np.array([[0,1,2,3],[4,5,6,7],[8,9,10,11]])\na",
      "metadata": {
        "trusted": true
      },
      "execution_count": 29,
      "outputs": [
        {
          "execution_count": 29,
          "output_type": "execute_result",
          "data": {
            "text/plain": "array([[ 0,  1,  2,  3],\n       [ 4,  5,  6,  7],\n       [ 8,  9, 10, 11]])"
          },
          "metadata": {}
        }
      ]
    },
    {
      "cell_type": "code",
      "source": "#fetching elements\na[(1,2)]",
      "metadata": {
        "trusted": true
      },
      "execution_count": 31,
      "outputs": [
        {
          "execution_count": 31,
          "output_type": "execute_result",
          "data": {
            "text/plain": "6"
          },
          "metadata": {}
        }
      ]
    },
    {
      "cell_type": "code",
      "source": "#iteration\nfor i in a:\n    for j in i:\n        print(j)",
      "metadata": {
        "trusted": true
      },
      "execution_count": 32,
      "outputs": [
        {
          "name": "stdout",
          "text": "0\n1\n2\n3\n4\n5\n6\n7\n8\n9\n10\n11\n",
          "output_type": "stream"
        }
      ]
    },
    {
      "cell_type": "code",
      "source": "#Slicing on 2D Array\na1 = a[1:3:1, 0:2:1]\na1",
      "metadata": {
        "trusted": true
      },
      "execution_count": 33,
      "outputs": [
        {
          "execution_count": 33,
          "output_type": "execute_result",
          "data": {
            "text/plain": "array([[4, 5],\n       [8, 9]])"
          },
          "metadata": {}
        }
      ]
    },
    {
      "cell_type": "markdown",
      "source": "Arithmetic Operations on Arrays",
      "metadata": {}
    },
    {
      "cell_type": "code",
      "source": "a = np.array([1,2,3,4,5])\nprint(a+2)",
      "metadata": {
        "trusted": true
      },
      "execution_count": 34,
      "outputs": [
        {
          "name": "stdout",
          "text": "[3 4 5 6 7]\n",
          "output_type": "stream"
        }
      ]
    },
    {
      "cell_type": "code",
      "source": "print(a-2)",
      "metadata": {
        "trusted": true
      },
      "execution_count": 35,
      "outputs": [
        {
          "name": "stdout",
          "text": "[-1  0  1  2  3]\n",
          "output_type": "stream"
        }
      ]
    },
    {
      "cell_type": "code",
      "source": "a = a+10\nprint(a//3)",
      "metadata": {
        "trusted": true
      },
      "execution_count": 36,
      "outputs": [
        {
          "name": "stdout",
          "text": "[3 4 4 4 5]\n",
          "output_type": "stream"
        }
      ]
    },
    {
      "cell_type": "code",
      "source": "print(a**2)",
      "metadata": {
        "trusted": true
      },
      "execution_count": 37,
      "outputs": [
        {
          "name": "stdout",
          "text": "[121 144 169 196 225]\n",
          "output_type": "stream"
        }
      ]
    },
    {
      "cell_type": "code",
      "source": "#Arrays to Arrays Operations\na = np.array([1,2,3,4])\nb = np.array([5,6,7,8])\nc = a*b\nc",
      "metadata": {
        "trusted": true
      },
      "execution_count": 38,
      "outputs": [
        {
          "execution_count": 38,
          "output_type": "execute_result",
          "data": {
            "text/plain": "array([ 5, 12, 21, 32])"
          },
          "metadata": {}
        }
      ]
    },
    {
      "cell_type": "markdown",
      "source": "Mathematical Operations",
      "metadata": {}
    },
    {
      "cell_type": "code",
      "source": "c = np.dot(a,b)\nc",
      "metadata": {
        "trusted": true
      },
      "execution_count": 39,
      "outputs": [
        {
          "execution_count": 39,
          "output_type": "execute_result",
          "data": {
            "text/plain": "70"
          },
          "metadata": {}
        }
      ]
    },
    {
      "cell_type": "markdown",
      "source": "Data Type Conversions",
      "metadata": {}
    },
    {
      "cell_type": "code",
      "source": "a = np.array([1,0,2,3,4])\na.dtype",
      "metadata": {
        "trusted": true
      },
      "execution_count": 45,
      "outputs": [
        {
          "execution_count": 45,
          "output_type": "execute_result",
          "data": {
            "text/plain": "dtype('int32')"
          },
          "metadata": {}
        }
      ]
    },
    {
      "cell_type": "code",
      "source": "a = a.astype('int16')",
      "metadata": {
        "trusted": true
      },
      "execution_count": 46,
      "outputs": []
    },
    {
      "cell_type": "code",
      "source": "a.dtype",
      "metadata": {
        "trusted": true
      },
      "execution_count": 47,
      "outputs": [
        {
          "execution_count": 47,
          "output_type": "execute_result",
          "data": {
            "text/plain": "dtype('int16')"
          },
          "metadata": {}
        }
      ]
    },
    {
      "cell_type": "code",
      "source": "a = a.astype('bool')",
      "metadata": {
        "trusted": true
      },
      "execution_count": 48,
      "outputs": []
    },
    {
      "cell_type": "code",
      "source": "a",
      "metadata": {
        "trusted": true
      },
      "execution_count": 49,
      "outputs": [
        {
          "execution_count": 49,
          "output_type": "execute_result",
          "data": {
            "text/plain": "array([ True, False,  True,  True,  True])"
          },
          "metadata": {}
        }
      ]
    },
    {
      "cell_type": "code",
      "source": "a.dtype",
      "metadata": {
        "trusted": true
      },
      "execution_count": 50,
      "outputs": [
        {
          "execution_count": 50,
          "output_type": "execute_result",
          "data": {
            "text/plain": "dtype('bool')"
          },
          "metadata": {}
        }
      ]
    },
    {
      "cell_type": "code",
      "source": "",
      "metadata": {},
      "execution_count": null,
      "outputs": []
    }
  ]
}