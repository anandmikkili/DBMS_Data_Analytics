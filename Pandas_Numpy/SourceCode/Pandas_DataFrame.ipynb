{
  "metadata": {
    "language_info": {
      "codemirror_mode": {
        "name": "python",
        "version": 3
      },
      "file_extension": ".py",
      "mimetype": "text/x-python",
      "name": "python",
      "nbconvert_exporter": "python",
      "pygments_lexer": "ipython3",
      "version": "3.8"
    },
    "kernelspec": {
      "name": "python",
      "display_name": "Python (Pyodide)",
      "language": "python"
    }
  },
  "nbformat_minor": 4,
  "nbformat": 4,
  "cells": [
    {
      "cell_type": "code",
      "source": "import pandas as pd",
      "metadata": {
        "trusted": true
      },
      "execution_count": 1,
      "outputs": []
    },
    {
      "cell_type": "code",
      "source": "names = ['Kanishka', 'Sahithi','Bansal', 'Sibi']\neng_marks = [100,56,33,78]\nhindi_marks = [87,43,23,65]\nscience_marks = [93,71,56,32]\nsocial_marks = [90,54,56,78]\nd = {'Student_Name':names,'English':eng_marks, 'Hindi':hindi_marks,'Science':science_marks, 'Social':social_marks}\ndf = pd.DataFrame(data=d)",
      "metadata": {
        "trusted": true
      },
      "execution_count": 4,
      "outputs": []
    },
    {
      "cell_type": "code",
      "source": "df",
      "metadata": {
        "trusted": true
      },
      "execution_count": 5,
      "outputs": [
        {
          "execution_count": 5,
          "output_type": "execute_result",
          "data": {
            "text/plain": "  Student_Name  English  Hindi  Science  Social\n0     Kanishka      100     87       93      90\n1      Sahithi       56     43       71      54\n2       Bansal       33     23       56      56\n3         Sibi       78     65       32      78",
            "text/html": "<div>\n<style scoped>\n    .dataframe tbody tr th:only-of-type {\n        vertical-align: middle;\n    }\n\n    .dataframe tbody tr th {\n        vertical-align: top;\n    }\n\n    .dataframe thead th {\n        text-align: right;\n    }\n</style>\n<table border=\"1\" class=\"dataframe\">\n  <thead>\n    <tr style=\"text-align: right;\">\n      <th></th>\n      <th>Student_Name</th>\n      <th>English</th>\n      <th>Hindi</th>\n      <th>Science</th>\n      <th>Social</th>\n    </tr>\n  </thead>\n  <tbody>\n    <tr>\n      <th>0</th>\n      <td>Kanishka</td>\n      <td>100</td>\n      <td>87</td>\n      <td>93</td>\n      <td>90</td>\n    </tr>\n    <tr>\n      <th>1</th>\n      <td>Sahithi</td>\n      <td>56</td>\n      <td>43</td>\n      <td>71</td>\n      <td>54</td>\n    </tr>\n    <tr>\n      <th>2</th>\n      <td>Bansal</td>\n      <td>33</td>\n      <td>23</td>\n      <td>56</td>\n      <td>56</td>\n    </tr>\n    <tr>\n      <th>3</th>\n      <td>Sibi</td>\n      <td>78</td>\n      <td>65</td>\n      <td>32</td>\n      <td>78</td>\n    </tr>\n  </tbody>\n</table>\n</div>"
          },
          "metadata": {}
        }
      ]
    },
    {
      "cell_type": "code",
      "source": "type(df)",
      "metadata": {
        "trusted": true
      },
      "execution_count": 6,
      "outputs": [
        {
          "execution_count": 6,
          "output_type": "execute_result",
          "data": {
            "text/plain": "pandas.core.frame.DataFrame"
          },
          "metadata": {}
        }
      ]
    },
    {
      "cell_type": "code",
      "source": "df.shape",
      "metadata": {
        "trusted": true
      },
      "execution_count": 7,
      "outputs": [
        {
          "execution_count": 7,
          "output_type": "execute_result",
          "data": {
            "text/plain": "(4, 5)"
          },
          "metadata": {}
        }
      ]
    },
    {
      "cell_type": "code",
      "source": "df",
      "metadata": {
        "trusted": true
      },
      "execution_count": 10,
      "outputs": [
        {
          "execution_count": 10,
          "output_type": "execute_result",
          "data": {
            "text/plain": "  Student_Name  English  Hindi  Science  Social\n0     Kanishka      100     87       93      90\n1      Sahithi       56     43       71      54\n2       Bansal       33     23       56      56\n3         Sibi       78     65       32      78",
            "text/html": "<div>\n<style scoped>\n    .dataframe tbody tr th:only-of-type {\n        vertical-align: middle;\n    }\n\n    .dataframe tbody tr th {\n        vertical-align: top;\n    }\n\n    .dataframe thead th {\n        text-align: right;\n    }\n</style>\n<table border=\"1\" class=\"dataframe\">\n  <thead>\n    <tr style=\"text-align: right;\">\n      <th></th>\n      <th>Student_Name</th>\n      <th>English</th>\n      <th>Hindi</th>\n      <th>Science</th>\n      <th>Social</th>\n    </tr>\n  </thead>\n  <tbody>\n    <tr>\n      <th>0</th>\n      <td>Kanishka</td>\n      <td>100</td>\n      <td>87</td>\n      <td>93</td>\n      <td>90</td>\n    </tr>\n    <tr>\n      <th>1</th>\n      <td>Sahithi</td>\n      <td>56</td>\n      <td>43</td>\n      <td>71</td>\n      <td>54</td>\n    </tr>\n    <tr>\n      <th>2</th>\n      <td>Bansal</td>\n      <td>33</td>\n      <td>23</td>\n      <td>56</td>\n      <td>56</td>\n    </tr>\n    <tr>\n      <th>3</th>\n      <td>Sibi</td>\n      <td>78</td>\n      <td>65</td>\n      <td>32</td>\n      <td>78</td>\n    </tr>\n  </tbody>\n</table>\n</div>"
          },
          "metadata": {}
        }
      ]
    },
    {
      "cell_type": "code",
      "source": "df = pd.read_csv(\"data/marks.csv\")",
      "metadata": {
        "trusted": true
      },
      "execution_count": 151,
      "outputs": []
    },
    {
      "cell_type": "code",
      "source": "df",
      "metadata": {
        "trusted": true
      },
      "execution_count": 152,
      "outputs": [
        {
          "execution_count": 152,
          "output_type": "execute_result",
          "data": {
            "text/plain": "       Name  English  Hindi  Science  Social\n0  Kanishka       80     70       60      50\n1   Sahithi       50     60       70      80\n2     Amith       75     65       55      45\n3      Sibi       85     75       65      55\n4     Anand       75     20       24      34",
            "text/html": "<div>\n<style scoped>\n    .dataframe tbody tr th:only-of-type {\n        vertical-align: middle;\n    }\n\n    .dataframe tbody tr th {\n        vertical-align: top;\n    }\n\n    .dataframe thead th {\n        text-align: right;\n    }\n</style>\n<table border=\"1\" class=\"dataframe\">\n  <thead>\n    <tr style=\"text-align: right;\">\n      <th></th>\n      <th>Name</th>\n      <th>English</th>\n      <th>Hindi</th>\n      <th>Science</th>\n      <th>Social</th>\n    </tr>\n  </thead>\n  <tbody>\n    <tr>\n      <th>0</th>\n      <td>Kanishka</td>\n      <td>80</td>\n      <td>70</td>\n      <td>60</td>\n      <td>50</td>\n    </tr>\n    <tr>\n      <th>1</th>\n      <td>Sahithi</td>\n      <td>50</td>\n      <td>60</td>\n      <td>70</td>\n      <td>80</td>\n    </tr>\n    <tr>\n      <th>2</th>\n      <td>Amith</td>\n      <td>75</td>\n      <td>65</td>\n      <td>55</td>\n      <td>45</td>\n    </tr>\n    <tr>\n      <th>3</th>\n      <td>Sibi</td>\n      <td>85</td>\n      <td>75</td>\n      <td>65</td>\n      <td>55</td>\n    </tr>\n    <tr>\n      <th>4</th>\n      <td>Anand</td>\n      <td>75</td>\n      <td>20</td>\n      <td>24</td>\n      <td>34</td>\n    </tr>\n  </tbody>\n</table>\n</div>"
          },
          "metadata": {}
        }
      ]
    },
    {
      "cell_type": "code",
      "source": "#!pip install openpyxl",
      "metadata": {
        "trusted": true
      },
      "execution_count": 153,
      "outputs": []
    },
    {
      "cell_type": "code",
      "source": "#df = pd.read_excel(\"data/marks.xlsx\")\n#df",
      "metadata": {
        "trusted": true
      },
      "execution_count": 154,
      "outputs": []
    },
    {
      "cell_type": "code",
      "source": "df.values",
      "metadata": {
        "trusted": true
      },
      "execution_count": 155,
      "outputs": [
        {
          "execution_count": 155,
          "output_type": "execute_result",
          "data": {
            "text/plain": "array([['Kanishka', 80, 70, 60, 50],\n       ['Sahithi', 50, 60, 70, 80],\n       ['Amith', 75, 65, 55, 45],\n       ['Sibi', 85, 75, 65, 55],\n       ['Anand', 75, 20, 24, 34]], dtype=object)"
          },
          "metadata": {}
        }
      ]
    },
    {
      "cell_type": "code",
      "source": "type(df.values)",
      "metadata": {
        "trusted": true
      },
      "execution_count": 156,
      "outputs": [
        {
          "execution_count": 156,
          "output_type": "execute_result",
          "data": {
            "text/plain": "numpy.ndarray"
          },
          "metadata": {}
        }
      ]
    },
    {
      "cell_type": "code",
      "source": "df.dtypes",
      "metadata": {
        "trusted": true
      },
      "execution_count": 157,
      "outputs": [
        {
          "execution_count": 157,
          "output_type": "execute_result",
          "data": {
            "text/plain": "Name       object\nEnglish     int64\nHindi       int64\nScience     int64\nSocial      int64\ndtype: object"
          },
          "metadata": {}
        }
      ]
    },
    {
      "cell_type": "code",
      "source": "df.columns.tolist()",
      "metadata": {
        "trusted": true
      },
      "execution_count": 158,
      "outputs": [
        {
          "execution_count": 158,
          "output_type": "execute_result",
          "data": {
            "text/plain": "['Name', 'English', 'Hindi', 'Science', 'Social']"
          },
          "metadata": {}
        }
      ]
    },
    {
      "cell_type": "code",
      "source": "df.size",
      "metadata": {
        "trusted": true
      },
      "execution_count": 159,
      "outputs": [
        {
          "execution_count": 159,
          "output_type": "execute_result",
          "data": {
            "text/plain": "25"
          },
          "metadata": {}
        }
      ]
    },
    {
      "cell_type": "markdown",
      "source": "Retrieve Rows from Pandas DataFrame",
      "metadata": {}
    },
    {
      "cell_type": "code",
      "source": "df",
      "metadata": {
        "trusted": true
      },
      "execution_count": 160,
      "outputs": [
        {
          "execution_count": 160,
          "output_type": "execute_result",
          "data": {
            "text/plain": "       Name  English  Hindi  Science  Social\n0  Kanishka       80     70       60      50\n1   Sahithi       50     60       70      80\n2     Amith       75     65       55      45\n3      Sibi       85     75       65      55\n4     Anand       75     20       24      34",
            "text/html": "<div>\n<style scoped>\n    .dataframe tbody tr th:only-of-type {\n        vertical-align: middle;\n    }\n\n    .dataframe tbody tr th {\n        vertical-align: top;\n    }\n\n    .dataframe thead th {\n        text-align: right;\n    }\n</style>\n<table border=\"1\" class=\"dataframe\">\n  <thead>\n    <tr style=\"text-align: right;\">\n      <th></th>\n      <th>Name</th>\n      <th>English</th>\n      <th>Hindi</th>\n      <th>Science</th>\n      <th>Social</th>\n    </tr>\n  </thead>\n  <tbody>\n    <tr>\n      <th>0</th>\n      <td>Kanishka</td>\n      <td>80</td>\n      <td>70</td>\n      <td>60</td>\n      <td>50</td>\n    </tr>\n    <tr>\n      <th>1</th>\n      <td>Sahithi</td>\n      <td>50</td>\n      <td>60</td>\n      <td>70</td>\n      <td>80</td>\n    </tr>\n    <tr>\n      <th>2</th>\n      <td>Amith</td>\n      <td>75</td>\n      <td>65</td>\n      <td>55</td>\n      <td>45</td>\n    </tr>\n    <tr>\n      <th>3</th>\n      <td>Sibi</td>\n      <td>85</td>\n      <td>75</td>\n      <td>65</td>\n      <td>55</td>\n    </tr>\n    <tr>\n      <th>4</th>\n      <td>Anand</td>\n      <td>75</td>\n      <td>20</td>\n      <td>24</td>\n      <td>34</td>\n    </tr>\n  </tbody>\n</table>\n</div>"
          },
          "metadata": {}
        }
      ]
    },
    {
      "cell_type": "code",
      "source": "df.at[2,'English']",
      "metadata": {
        "trusted": true
      },
      "execution_count": 161,
      "outputs": [
        {
          "execution_count": 161,
          "output_type": "execute_result",
          "data": {
            "text/plain": "75"
          },
          "metadata": {}
        }
      ]
    },
    {
      "cell_type": "code",
      "source": "df.iat[1,3]",
      "metadata": {
        "trusted": true
      },
      "execution_count": 162,
      "outputs": [
        {
          "execution_count": 162,
          "output_type": "execute_result",
          "data": {
            "text/plain": "70"
          },
          "metadata": {}
        }
      ]
    },
    {
      "cell_type": "code",
      "source": "df.loc[2]       # Row wise retrieval",
      "metadata": {
        "trusted": true
      },
      "execution_count": 163,
      "outputs": [
        {
          "execution_count": 163,
          "output_type": "execute_result",
          "data": {
            "text/plain": "Name       Amith\nEnglish       75\nHindi         65\nScience       55\nSocial        45\nName: 2, dtype: object"
          },
          "metadata": {}
        }
      ]
    },
    {
      "cell_type": "code",
      "source": "df.loc[1:3]      #Label Based",
      "metadata": {
        "trusted": true
      },
      "execution_count": 164,
      "outputs": [
        {
          "execution_count": 164,
          "output_type": "execute_result",
          "data": {
            "text/plain": "      Name  English  Hindi  Science  Social\n1  Sahithi       50     60       70      80\n2    Amith       75     65       55      45\n3     Sibi       85     75       65      55",
            "text/html": "<div>\n<style scoped>\n    .dataframe tbody tr th:only-of-type {\n        vertical-align: middle;\n    }\n\n    .dataframe tbody tr th {\n        vertical-align: top;\n    }\n\n    .dataframe thead th {\n        text-align: right;\n    }\n</style>\n<table border=\"1\" class=\"dataframe\">\n  <thead>\n    <tr style=\"text-align: right;\">\n      <th></th>\n      <th>Name</th>\n      <th>English</th>\n      <th>Hindi</th>\n      <th>Science</th>\n      <th>Social</th>\n    </tr>\n  </thead>\n  <tbody>\n    <tr>\n      <th>1</th>\n      <td>Sahithi</td>\n      <td>50</td>\n      <td>60</td>\n      <td>70</td>\n      <td>80</td>\n    </tr>\n    <tr>\n      <th>2</th>\n      <td>Amith</td>\n      <td>75</td>\n      <td>65</td>\n      <td>55</td>\n      <td>45</td>\n    </tr>\n    <tr>\n      <th>3</th>\n      <td>Sibi</td>\n      <td>85</td>\n      <td>75</td>\n      <td>65</td>\n      <td>55</td>\n    </tr>\n  </tbody>\n</table>\n</div>"
          },
          "metadata": {}
        }
      ]
    },
    {
      "cell_type": "code",
      "source": "df.iloc[2]",
      "metadata": {
        "trusted": true
      },
      "execution_count": 165,
      "outputs": [
        {
          "execution_count": 165,
          "output_type": "execute_result",
          "data": {
            "text/plain": "Name       Amith\nEnglish       75\nHindi         65\nScience       55\nSocial        45\nName: 2, dtype: object"
          },
          "metadata": {}
        }
      ]
    },
    {
      "cell_type": "code",
      "source": "df1 = df.iloc[1:3]          #Slicing the Dataframe (Index Based)",
      "metadata": {
        "trusted": true
      },
      "execution_count": 166,
      "outputs": []
    },
    {
      "cell_type": "code",
      "source": "df1",
      "metadata": {
        "trusted": true
      },
      "execution_count": 167,
      "outputs": [
        {
          "execution_count": 167,
          "output_type": "execute_result",
          "data": {
            "text/plain": "      Name  English  Hindi  Science  Social\n1  Sahithi       50     60       70      80\n2    Amith       75     65       55      45",
            "text/html": "<div>\n<style scoped>\n    .dataframe tbody tr th:only-of-type {\n        vertical-align: middle;\n    }\n\n    .dataframe tbody tr th {\n        vertical-align: top;\n    }\n\n    .dataframe thead th {\n        text-align: right;\n    }\n</style>\n<table border=\"1\" class=\"dataframe\">\n  <thead>\n    <tr style=\"text-align: right;\">\n      <th></th>\n      <th>Name</th>\n      <th>English</th>\n      <th>Hindi</th>\n      <th>Science</th>\n      <th>Social</th>\n    </tr>\n  </thead>\n  <tbody>\n    <tr>\n      <th>1</th>\n      <td>Sahithi</td>\n      <td>50</td>\n      <td>60</td>\n      <td>70</td>\n      <td>80</td>\n    </tr>\n    <tr>\n      <th>2</th>\n      <td>Amith</td>\n      <td>75</td>\n      <td>65</td>\n      <td>55</td>\n      <td>45</td>\n    </tr>\n  </tbody>\n</table>\n</div>"
          },
          "metadata": {}
        }
      ]
    },
    {
      "cell_type": "markdown",
      "source": "Iterate over Pandas DataFrame",
      "metadata": {}
    },
    {
      "cell_type": "code",
      "source": "for i,r in df.iterrows():\n    print(\"Index is: \",i, \" The Row is: \",r['Name'])",
      "metadata": {
        "trusted": true
      },
      "execution_count": 168,
      "outputs": [
        {
          "name": "stdout",
          "text": "Index is:  0  The Row is:  Kanishka\nIndex is:  1  The Row is:  Sahithi\nIndex is:  2  The Row is:  Amith\nIndex is:  3  The Row is:  Sibi\nIndex is:  4  The Row is:  Anand\n",
          "output_type": "stream"
        }
      ]
    },
    {
      "cell_type": "code",
      "source": "def pass_fail_status(eng,hin,sci,soc):\n    if((eng>=35) and (hin>=35) and (sci>=35) and (soc>=35)):\n        return 'P'\n    else:\n        return 'F'",
      "metadata": {
        "trusted": true
      },
      "execution_count": 169,
      "outputs": []
    },
    {
      "cell_type": "code",
      "source": "import time",
      "metadata": {
        "trusted": true
      },
      "execution_count": 170,
      "outputs": []
    },
    {
      "cell_type": "code",
      "source": "start_for = time.time()\ndf['STATUS']='F'\nfor i,r in df.iterrows():\n    df.at[i,'STATUS'] = pass_fail_status(r.English,r.Hindi,r.Science,r.Social)\nend_for = time.time()\nprint(\"Total Time Taken By ForLoop: \", (end_for - start_for), \"Seconds\")\ndf",
      "metadata": {
        "trusted": true
      },
      "execution_count": 171,
      "outputs": [
        {
          "name": "stdout",
          "text": "Total Time Taken By ForLoop:  0.004999876022338867 Seconds\n",
          "output_type": "stream"
        },
        {
          "execution_count": 171,
          "output_type": "execute_result",
          "data": {
            "text/plain": "       Name  English  Hindi  Science  Social STATUS\n0  Kanishka       80     70       60      50      P\n1   Sahithi       50     60       70      80      P\n2     Amith       75     65       55      45      P\n3      Sibi       85     75       65      55      P\n4     Anand       75     20       24      34      F",
            "text/html": "<div>\n<style scoped>\n    .dataframe tbody tr th:only-of-type {\n        vertical-align: middle;\n    }\n\n    .dataframe tbody tr th {\n        vertical-align: top;\n    }\n\n    .dataframe thead th {\n        text-align: right;\n    }\n</style>\n<table border=\"1\" class=\"dataframe\">\n  <thead>\n    <tr style=\"text-align: right;\">\n      <th></th>\n      <th>Name</th>\n      <th>English</th>\n      <th>Hindi</th>\n      <th>Science</th>\n      <th>Social</th>\n      <th>STATUS</th>\n    </tr>\n  </thead>\n  <tbody>\n    <tr>\n      <th>0</th>\n      <td>Kanishka</td>\n      <td>80</td>\n      <td>70</td>\n      <td>60</td>\n      <td>50</td>\n      <td>P</td>\n    </tr>\n    <tr>\n      <th>1</th>\n      <td>Sahithi</td>\n      <td>50</td>\n      <td>60</td>\n      <td>70</td>\n      <td>80</td>\n      <td>P</td>\n    </tr>\n    <tr>\n      <th>2</th>\n      <td>Amith</td>\n      <td>75</td>\n      <td>65</td>\n      <td>55</td>\n      <td>45</td>\n      <td>P</td>\n    </tr>\n    <tr>\n      <th>3</th>\n      <td>Sibi</td>\n      <td>85</td>\n      <td>75</td>\n      <td>65</td>\n      <td>55</td>\n      <td>P</td>\n    </tr>\n    <tr>\n      <th>4</th>\n      <td>Anand</td>\n      <td>75</td>\n      <td>20</td>\n      <td>24</td>\n      <td>34</td>\n      <td>F</td>\n    </tr>\n  </tbody>\n</table>\n</div>"
          },
          "metadata": {}
        }
      ]
    },
    {
      "cell_type": "code",
      "source": "df1 = pd.read_csv(\"data/marks.csv\")",
      "metadata": {
        "trusted": true
      },
      "execution_count": 172,
      "outputs": []
    },
    {
      "cell_type": "code",
      "source": "df1",
      "metadata": {
        "trusted": true
      },
      "execution_count": 173,
      "outputs": [
        {
          "execution_count": 173,
          "output_type": "execute_result",
          "data": {
            "text/plain": "       Name  English  Hindi  Science  Social\n0  Kanishka       80     70       60      50\n1   Sahithi       50     60       70      80\n2     Amith       75     65       55      45\n3      Sibi       85     75       65      55\n4     Anand       75     20       24      34",
            "text/html": "<div>\n<style scoped>\n    .dataframe tbody tr th:only-of-type {\n        vertical-align: middle;\n    }\n\n    .dataframe tbody tr th {\n        vertical-align: top;\n    }\n\n    .dataframe thead th {\n        text-align: right;\n    }\n</style>\n<table border=\"1\" class=\"dataframe\">\n  <thead>\n    <tr style=\"text-align: right;\">\n      <th></th>\n      <th>Name</th>\n      <th>English</th>\n      <th>Hindi</th>\n      <th>Science</th>\n      <th>Social</th>\n    </tr>\n  </thead>\n  <tbody>\n    <tr>\n      <th>0</th>\n      <td>Kanishka</td>\n      <td>80</td>\n      <td>70</td>\n      <td>60</td>\n      <td>50</td>\n    </tr>\n    <tr>\n      <th>1</th>\n      <td>Sahithi</td>\n      <td>50</td>\n      <td>60</td>\n      <td>70</td>\n      <td>80</td>\n    </tr>\n    <tr>\n      <th>2</th>\n      <td>Amith</td>\n      <td>75</td>\n      <td>65</td>\n      <td>55</td>\n      <td>45</td>\n    </tr>\n    <tr>\n      <th>3</th>\n      <td>Sibi</td>\n      <td>85</td>\n      <td>75</td>\n      <td>65</td>\n      <td>55</td>\n    </tr>\n    <tr>\n      <th>4</th>\n      <td>Anand</td>\n      <td>75</td>\n      <td>20</td>\n      <td>24</td>\n      <td>34</td>\n    </tr>\n  </tbody>\n</table>\n</div>"
          },
          "metadata": {}
        }
      ]
    },
    {
      "cell_type": "code",
      "source": "start_lambda = time.time()\ndf1['STATUS'] = df1.apply(lambda r: pass_fail_status(r.English,r.Hindi,r.Science,r.Social), axis=1)\nend_lambda = time.time()\nprint(\"Total Time Taken By Lambda Function to Execute: \",(end_lambda - start_lambda), \"Seconds\")",
      "metadata": {
        "trusted": true
      },
      "execution_count": 174,
      "outputs": [
        {
          "name": "stdout",
          "text": "Total Time Taken By Lambda Function to Execute:  0.004999876022338867 Seconds\n",
          "output_type": "stream"
        }
      ]
    },
    {
      "cell_type": "code",
      "source": "df1",
      "metadata": {
        "trusted": true
      },
      "execution_count": 175,
      "outputs": [
        {
          "execution_count": 175,
          "output_type": "execute_result",
          "data": {
            "text/plain": "       Name  English  Hindi  Science  Social STATUS\n0  Kanishka       80     70       60      50      P\n1   Sahithi       50     60       70      80      P\n2     Amith       75     65       55      45      P\n3      Sibi       85     75       65      55      P\n4     Anand       75     20       24      34      F",
            "text/html": "<div>\n<style scoped>\n    .dataframe tbody tr th:only-of-type {\n        vertical-align: middle;\n    }\n\n    .dataframe tbody tr th {\n        vertical-align: top;\n    }\n\n    .dataframe thead th {\n        text-align: right;\n    }\n</style>\n<table border=\"1\" class=\"dataframe\">\n  <thead>\n    <tr style=\"text-align: right;\">\n      <th></th>\n      <th>Name</th>\n      <th>English</th>\n      <th>Hindi</th>\n      <th>Science</th>\n      <th>Social</th>\n      <th>STATUS</th>\n    </tr>\n  </thead>\n  <tbody>\n    <tr>\n      <th>0</th>\n      <td>Kanishka</td>\n      <td>80</td>\n      <td>70</td>\n      <td>60</td>\n      <td>50</td>\n      <td>P</td>\n    </tr>\n    <tr>\n      <th>1</th>\n      <td>Sahithi</td>\n      <td>50</td>\n      <td>60</td>\n      <td>70</td>\n      <td>80</td>\n      <td>P</td>\n    </tr>\n    <tr>\n      <th>2</th>\n      <td>Amith</td>\n      <td>75</td>\n      <td>65</td>\n      <td>55</td>\n      <td>45</td>\n      <td>P</td>\n    </tr>\n    <tr>\n      <th>3</th>\n      <td>Sibi</td>\n      <td>85</td>\n      <td>75</td>\n      <td>65</td>\n      <td>55</td>\n      <td>P</td>\n    </tr>\n    <tr>\n      <th>4</th>\n      <td>Anand</td>\n      <td>75</td>\n      <td>20</td>\n      <td>24</td>\n      <td>34</td>\n      <td>F</td>\n    </tr>\n  </tbody>\n</table>\n</div>"
          },
          "metadata": {}
        }
      ]
    },
    {
      "cell_type": "markdown",
      "source": "Statistical Operations on Pandas DataFrame",
      "metadata": {}
    },
    {
      "cell_type": "code",
      "source": "df.English.mean()",
      "metadata": {
        "trusted": true
      },
      "execution_count": 176,
      "outputs": [
        {
          "execution_count": 176,
          "output_type": "execute_result",
          "data": {
            "text/plain": "73.0"
          },
          "metadata": {}
        }
      ]
    },
    {
      "cell_type": "code",
      "source": "df.English.mode()",
      "metadata": {
        "trusted": true
      },
      "execution_count": 177,
      "outputs": [
        {
          "execution_count": 177,
          "output_type": "execute_result",
          "data": {
            "text/plain": "0    75\nName: English, dtype: int64"
          },
          "metadata": {}
        }
      ]
    },
    {
      "cell_type": "code",
      "source": "df.English.max()",
      "metadata": {
        "trusted": true
      },
      "execution_count": 178,
      "outputs": [
        {
          "execution_count": 178,
          "output_type": "execute_result",
          "data": {
            "text/plain": "85"
          },
          "metadata": {}
        }
      ]
    },
    {
      "cell_type": "code",
      "source": "df.English.min()",
      "metadata": {
        "trusted": true
      },
      "execution_count": 179,
      "outputs": [
        {
          "execution_count": 179,
          "output_type": "execute_result",
          "data": {
            "text/plain": "50"
          },
          "metadata": {}
        }
      ]
    },
    {
      "cell_type": "markdown",
      "source": "Scalar Operations on Pandas DataFrame",
      "metadata": {}
    },
    {
      "cell_type": "code",
      "source": "df.Hindi = df.Hindi+5",
      "metadata": {
        "trusted": true
      },
      "execution_count": 180,
      "outputs": []
    },
    {
      "cell_type": "code",
      "source": "#df['Hindi'] = df['Hindi']+5",
      "metadata": {
        "trusted": true
      },
      "execution_count": 181,
      "outputs": []
    },
    {
      "cell_type": "code",
      "source": "#df.loc['Hindi'] = df['Hindi']+5",
      "metadata": {
        "trusted": true
      },
      "execution_count": 182,
      "outputs": []
    },
    {
      "cell_type": "code",
      "source": "df['Hindi'] = df.apply(lambda r: ((r.Hindi)+5),axis=1)",
      "metadata": {
        "trusted": true
      },
      "execution_count": 183,
      "outputs": []
    },
    {
      "cell_type": "code",
      "source": "df",
      "metadata": {
        "trusted": true
      },
      "execution_count": 184,
      "outputs": [
        {
          "execution_count": 184,
          "output_type": "execute_result",
          "data": {
            "text/plain": "       Name  English  Hindi  Science  Social STATUS\n0  Kanishka       80     80       60      50      P\n1   Sahithi       50     70       70      80      P\n2     Amith       75     75       55      45      P\n3      Sibi       85     85       65      55      P\n4     Anand       75     30       24      34      F",
            "text/html": "<div>\n<style scoped>\n    .dataframe tbody tr th:only-of-type {\n        vertical-align: middle;\n    }\n\n    .dataframe tbody tr th {\n        vertical-align: top;\n    }\n\n    .dataframe thead th {\n        text-align: right;\n    }\n</style>\n<table border=\"1\" class=\"dataframe\">\n  <thead>\n    <tr style=\"text-align: right;\">\n      <th></th>\n      <th>Name</th>\n      <th>English</th>\n      <th>Hindi</th>\n      <th>Science</th>\n      <th>Social</th>\n      <th>STATUS</th>\n    </tr>\n  </thead>\n  <tbody>\n    <tr>\n      <th>0</th>\n      <td>Kanishka</td>\n      <td>80</td>\n      <td>80</td>\n      <td>60</td>\n      <td>50</td>\n      <td>P</td>\n    </tr>\n    <tr>\n      <th>1</th>\n      <td>Sahithi</td>\n      <td>50</td>\n      <td>70</td>\n      <td>70</td>\n      <td>80</td>\n      <td>P</td>\n    </tr>\n    <tr>\n      <th>2</th>\n      <td>Amith</td>\n      <td>75</td>\n      <td>75</td>\n      <td>55</td>\n      <td>45</td>\n      <td>P</td>\n    </tr>\n    <tr>\n      <th>3</th>\n      <td>Sibi</td>\n      <td>85</td>\n      <td>85</td>\n      <td>65</td>\n      <td>55</td>\n      <td>P</td>\n    </tr>\n    <tr>\n      <th>4</th>\n      <td>Anand</td>\n      <td>75</td>\n      <td>30</td>\n      <td>24</td>\n      <td>34</td>\n      <td>F</td>\n    </tr>\n  </tbody>\n</table>\n</div>"
          },
          "metadata": {}
        }
      ]
    },
    {
      "cell_type": "markdown",
      "source": "Object Operations on Pandas DataFrame",
      "metadata": {}
    },
    {
      "cell_type": "code",
      "source": "names = pd.Series(['A','B','C','D'])\neng = pd.Series([60,70,80,90])\nhin = pd.Series([70,30,20,10])\nd = {'Name':names,'English':eng, 'Hindi':hin}\ndf1 = pd.DataFrame(data=d)\ndf1",
      "metadata": {
        "trusted": true
      },
      "execution_count": 185,
      "outputs": [
        {
          "execution_count": 185,
          "output_type": "execute_result",
          "data": {
            "text/plain": "  Name  English  Hindi\n0    A       60     70\n1    B       70     30\n2    C       80     20\n3    D       90     10",
            "text/html": "<div>\n<style scoped>\n    .dataframe tbody tr th:only-of-type {\n        vertical-align: middle;\n    }\n\n    .dataframe tbody tr th {\n        vertical-align: top;\n    }\n\n    .dataframe thead th {\n        text-align: right;\n    }\n</style>\n<table border=\"1\" class=\"dataframe\">\n  <thead>\n    <tr style=\"text-align: right;\">\n      <th></th>\n      <th>Name</th>\n      <th>English</th>\n      <th>Hindi</th>\n    </tr>\n  </thead>\n  <tbody>\n    <tr>\n      <th>0</th>\n      <td>A</td>\n      <td>60</td>\n      <td>70</td>\n    </tr>\n    <tr>\n      <th>1</th>\n      <td>B</td>\n      <td>70</td>\n      <td>30</td>\n    </tr>\n    <tr>\n      <th>2</th>\n      <td>C</td>\n      <td>80</td>\n      <td>20</td>\n    </tr>\n    <tr>\n      <th>3</th>\n      <td>D</td>\n      <td>90</td>\n      <td>10</td>\n    </tr>\n  </tbody>\n</table>\n</div>"
          },
          "metadata": {}
        }
      ]
    },
    {
      "cell_type": "code",
      "source": "sci = pd.Series([650,40,60,70])\nsoc = pd.Series([40,70,40,50])\nd1 = {'Science':sci,'Social':soc}\ndf2 = pd.DataFrame(data=d1)\ndf2",
      "metadata": {
        "trusted": true
      },
      "execution_count": 186,
      "outputs": [
        {
          "execution_count": 186,
          "output_type": "execute_result",
          "data": {
            "text/plain": "   Science  Social\n0      650      40\n1       40      70\n2       60      40\n3       70      50",
            "text/html": "<div>\n<style scoped>\n    .dataframe tbody tr th:only-of-type {\n        vertical-align: middle;\n    }\n\n    .dataframe tbody tr th {\n        vertical-align: top;\n    }\n\n    .dataframe thead th {\n        text-align: right;\n    }\n</style>\n<table border=\"1\" class=\"dataframe\">\n  <thead>\n    <tr style=\"text-align: right;\">\n      <th></th>\n      <th>Science</th>\n      <th>Social</th>\n    </tr>\n  </thead>\n  <tbody>\n    <tr>\n      <th>0</th>\n      <td>650</td>\n      <td>40</td>\n    </tr>\n    <tr>\n      <th>1</th>\n      <td>40</td>\n      <td>70</td>\n    </tr>\n    <tr>\n      <th>2</th>\n      <td>60</td>\n      <td>40</td>\n    </tr>\n    <tr>\n      <th>3</th>\n      <td>70</td>\n      <td>50</td>\n    </tr>\n  </tbody>\n</table>\n</div>"
          },
          "metadata": {}
        }
      ]
    },
    {
      "cell_type": "code",
      "source": "#Horizontal Concatenation of DataFrames",
      "metadata": {
        "trusted": true
      },
      "execution_count": 187,
      "outputs": []
    },
    {
      "cell_type": "code",
      "source": "df = pd.concat([df1,df2],axis=1)\ndf.shape",
      "metadata": {
        "trusted": true
      },
      "execution_count": 188,
      "outputs": [
        {
          "execution_count": 188,
          "output_type": "execute_result",
          "data": {
            "text/plain": "(4, 5)"
          },
          "metadata": {}
        }
      ]
    },
    {
      "cell_type": "code",
      "source": "names = pd.Series(['A','B','C','D'])\neng = pd.Series([60,70,80,90])\nhin = pd.Series([70,30,20,10])\nsci = pd.Series([650,40,60,70])\nsoc = pd.Series([40,70,40,50])\nd2 = {'Name':names,'English':eng, 'Hindi':hin,'Science':sci,'Social':soc}\ndf3 = pd.DataFrame(data=d2)\ndf3",
      "metadata": {
        "trusted": true
      },
      "execution_count": 189,
      "outputs": [
        {
          "execution_count": 189,
          "output_type": "execute_result",
          "data": {
            "text/plain": "  Name  English  Hindi  Science  Social\n0    A       60     70      650      40\n1    B       70     30       40      70\n2    C       80     20       60      40\n3    D       90     10       70      50",
            "text/html": "<div>\n<style scoped>\n    .dataframe tbody tr th:only-of-type {\n        vertical-align: middle;\n    }\n\n    .dataframe tbody tr th {\n        vertical-align: top;\n    }\n\n    .dataframe thead th {\n        text-align: right;\n    }\n</style>\n<table border=\"1\" class=\"dataframe\">\n  <thead>\n    <tr style=\"text-align: right;\">\n      <th></th>\n      <th>Name</th>\n      <th>English</th>\n      <th>Hindi</th>\n      <th>Science</th>\n      <th>Social</th>\n    </tr>\n  </thead>\n  <tbody>\n    <tr>\n      <th>0</th>\n      <td>A</td>\n      <td>60</td>\n      <td>70</td>\n      <td>650</td>\n      <td>40</td>\n    </tr>\n    <tr>\n      <th>1</th>\n      <td>B</td>\n      <td>70</td>\n      <td>30</td>\n      <td>40</td>\n      <td>70</td>\n    </tr>\n    <tr>\n      <th>2</th>\n      <td>C</td>\n      <td>80</td>\n      <td>20</td>\n      <td>60</td>\n      <td>40</td>\n    </tr>\n    <tr>\n      <th>3</th>\n      <td>D</td>\n      <td>90</td>\n      <td>10</td>\n      <td>70</td>\n      <td>50</td>\n    </tr>\n  </tbody>\n</table>\n</div>"
          },
          "metadata": {}
        }
      ]
    },
    {
      "cell_type": "code",
      "source": "df3.shape",
      "metadata": {
        "trusted": true
      },
      "execution_count": 190,
      "outputs": [
        {
          "execution_count": 190,
          "output_type": "execute_result",
          "data": {
            "text/plain": "(4, 5)"
          },
          "metadata": {}
        }
      ]
    },
    {
      "cell_type": "code",
      "source": "#Vertical Concatenation of DataFrames\ndf = pd.concat([df,df3],axis=0, ignore_index=True)\ndf.shape",
      "metadata": {
        "trusted": true
      },
      "execution_count": 191,
      "outputs": [
        {
          "execution_count": 191,
          "output_type": "execute_result",
          "data": {
            "text/plain": "(8, 5)"
          },
          "metadata": {}
        }
      ]
    },
    {
      "cell_type": "code",
      "source": "df",
      "metadata": {
        "trusted": true
      },
      "execution_count": 192,
      "outputs": [
        {
          "execution_count": 192,
          "output_type": "execute_result",
          "data": {
            "text/plain": "  Name  English  Hindi  Science  Social\n0    A       60     70      650      40\n1    B       70     30       40      70\n2    C       80     20       60      40\n3    D       90     10       70      50\n4    A       60     70      650      40\n5    B       70     30       40      70\n6    C       80     20       60      40\n7    D       90     10       70      50",
            "text/html": "<div>\n<style scoped>\n    .dataframe tbody tr th:only-of-type {\n        vertical-align: middle;\n    }\n\n    .dataframe tbody tr th {\n        vertical-align: top;\n    }\n\n    .dataframe thead th {\n        text-align: right;\n    }\n</style>\n<table border=\"1\" class=\"dataframe\">\n  <thead>\n    <tr style=\"text-align: right;\">\n      <th></th>\n      <th>Name</th>\n      <th>English</th>\n      <th>Hindi</th>\n      <th>Science</th>\n      <th>Social</th>\n    </tr>\n  </thead>\n  <tbody>\n    <tr>\n      <th>0</th>\n      <td>A</td>\n      <td>60</td>\n      <td>70</td>\n      <td>650</td>\n      <td>40</td>\n    </tr>\n    <tr>\n      <th>1</th>\n      <td>B</td>\n      <td>70</td>\n      <td>30</td>\n      <td>40</td>\n      <td>70</td>\n    </tr>\n    <tr>\n      <th>2</th>\n      <td>C</td>\n      <td>80</td>\n      <td>20</td>\n      <td>60</td>\n      <td>40</td>\n    </tr>\n    <tr>\n      <th>3</th>\n      <td>D</td>\n      <td>90</td>\n      <td>10</td>\n      <td>70</td>\n      <td>50</td>\n    </tr>\n    <tr>\n      <th>4</th>\n      <td>A</td>\n      <td>60</td>\n      <td>70</td>\n      <td>650</td>\n      <td>40</td>\n    </tr>\n    <tr>\n      <th>5</th>\n      <td>B</td>\n      <td>70</td>\n      <td>30</td>\n      <td>40</td>\n      <td>70</td>\n    </tr>\n    <tr>\n      <th>6</th>\n      <td>C</td>\n      <td>80</td>\n      <td>20</td>\n      <td>60</td>\n      <td>40</td>\n    </tr>\n    <tr>\n      <th>7</th>\n      <td>D</td>\n      <td>90</td>\n      <td>10</td>\n      <td>70</td>\n      <td>50</td>\n    </tr>\n  </tbody>\n</table>\n</div>"
          },
          "metadata": {}
        }
      ]
    },
    {
      "cell_type": "code",
      "source": "names = pd.Series(['A','B','C','D'])\neng = pd.Series([60,70,80,90])\nhin = pd.Series([70,30,20,10])\nsci = pd.Series([50,40,60,70])\nsoc = pd.Series([40,70,40,50])\nd2 = {'Name':names,'English':eng, 'Hindi':hin,'Science':sci,'Social':soc}\ndf1 = pd.DataFrame(data=d2)\ndf1",
      "metadata": {
        "trusted": true
      },
      "execution_count": 194,
      "outputs": [
        {
          "execution_count": 194,
          "output_type": "execute_result",
          "data": {
            "text/plain": "  Name  English  Hindi  Science  Social\n0    A       60     70       50      40\n1    B       70     30       40      70\n2    C       80     20       60      40\n3    D       90     10       70      50",
            "text/html": "<div>\n<style scoped>\n    .dataframe tbody tr th:only-of-type {\n        vertical-align: middle;\n    }\n\n    .dataframe tbody tr th {\n        vertical-align: top;\n    }\n\n    .dataframe thead th {\n        text-align: right;\n    }\n</style>\n<table border=\"1\" class=\"dataframe\">\n  <thead>\n    <tr style=\"text-align: right;\">\n      <th></th>\n      <th>Name</th>\n      <th>English</th>\n      <th>Hindi</th>\n      <th>Science</th>\n      <th>Social</th>\n    </tr>\n  </thead>\n  <tbody>\n    <tr>\n      <th>0</th>\n      <td>A</td>\n      <td>60</td>\n      <td>70</td>\n      <td>50</td>\n      <td>40</td>\n    </tr>\n    <tr>\n      <th>1</th>\n      <td>B</td>\n      <td>70</td>\n      <td>30</td>\n      <td>40</td>\n      <td>70</td>\n    </tr>\n    <tr>\n      <th>2</th>\n      <td>C</td>\n      <td>80</td>\n      <td>20</td>\n      <td>60</td>\n      <td>40</td>\n    </tr>\n    <tr>\n      <th>3</th>\n      <td>D</td>\n      <td>90</td>\n      <td>10</td>\n      <td>70</td>\n      <td>50</td>\n    </tr>\n  </tbody>\n</table>\n</div>"
          },
          "metadata": {}
        }
      ]
    },
    {
      "cell_type": "code",
      "source": "names = pd.Series(['A','B','C','D'])\neng = pd.Series([60,70,80,90])\nhin = pd.Series([70,30,20,10])\nsci = pd.Series([650,40,60,70])\nsoc = pd.Series([40,70,40,50])\nd2 = {'Name':names,'English':eng, 'Hindi':hin,'Science':sci,'Social':soc}\ndf2 = pd.DataFrame(data=d2)\ndf2",
      "metadata": {
        "trusted": true
      },
      "execution_count": 195,
      "outputs": [
        {
          "execution_count": 195,
          "output_type": "execute_result",
          "data": {
            "text/plain": "  Name  English  Hindi  Science  Social\n0    A       60     70      650      40\n1    B       70     30       40      70\n2    C       80     20       60      40\n3    D       90     10       70      50",
            "text/html": "<div>\n<style scoped>\n    .dataframe tbody tr th:only-of-type {\n        vertical-align: middle;\n    }\n\n    .dataframe tbody tr th {\n        vertical-align: top;\n    }\n\n    .dataframe thead th {\n        text-align: right;\n    }\n</style>\n<table border=\"1\" class=\"dataframe\">\n  <thead>\n    <tr style=\"text-align: right;\">\n      <th></th>\n      <th>Name</th>\n      <th>English</th>\n      <th>Hindi</th>\n      <th>Science</th>\n      <th>Social</th>\n    </tr>\n  </thead>\n  <tbody>\n    <tr>\n      <th>0</th>\n      <td>A</td>\n      <td>60</td>\n      <td>70</td>\n      <td>650</td>\n      <td>40</td>\n    </tr>\n    <tr>\n      <th>1</th>\n      <td>B</td>\n      <td>70</td>\n      <td>30</td>\n      <td>40</td>\n      <td>70</td>\n    </tr>\n    <tr>\n      <th>2</th>\n      <td>C</td>\n      <td>80</td>\n      <td>20</td>\n      <td>60</td>\n      <td>40</td>\n    </tr>\n    <tr>\n      <th>3</th>\n      <td>D</td>\n      <td>90</td>\n      <td>10</td>\n      <td>70</td>\n      <td>50</td>\n    </tr>\n  </tbody>\n</table>\n</div>"
          },
          "metadata": {}
        }
      ]
    },
    {
      "cell_type": "code",
      "source": "df3 = df1+df2",
      "metadata": {
        "trusted": true
      },
      "execution_count": 200,
      "outputs": []
    },
    {
      "cell_type": "code",
      "source": "df3",
      "metadata": {
        "trusted": true
      },
      "execution_count": 201,
      "outputs": [
        {
          "execution_count": 201,
          "output_type": "execute_result",
          "data": {
            "text/plain": "  Name  English  Hindi  Science  Social\n0   AA      120    140      700      80\n1   BB      140     60       80     140\n2   CC      160     40      120      80\n3   DD      180     20      140     100",
            "text/html": "<div>\n<style scoped>\n    .dataframe tbody tr th:only-of-type {\n        vertical-align: middle;\n    }\n\n    .dataframe tbody tr th {\n        vertical-align: top;\n    }\n\n    .dataframe thead th {\n        text-align: right;\n    }\n</style>\n<table border=\"1\" class=\"dataframe\">\n  <thead>\n    <tr style=\"text-align: right;\">\n      <th></th>\n      <th>Name</th>\n      <th>English</th>\n      <th>Hindi</th>\n      <th>Science</th>\n      <th>Social</th>\n    </tr>\n  </thead>\n  <tbody>\n    <tr>\n      <th>0</th>\n      <td>AA</td>\n      <td>120</td>\n      <td>140</td>\n      <td>700</td>\n      <td>80</td>\n    </tr>\n    <tr>\n      <th>1</th>\n      <td>BB</td>\n      <td>140</td>\n      <td>60</td>\n      <td>80</td>\n      <td>140</td>\n    </tr>\n    <tr>\n      <th>2</th>\n      <td>CC</td>\n      <td>160</td>\n      <td>40</td>\n      <td>120</td>\n      <td>80</td>\n    </tr>\n    <tr>\n      <th>3</th>\n      <td>DD</td>\n      <td>180</td>\n      <td>20</td>\n      <td>140</td>\n      <td>100</td>\n    </tr>\n  </tbody>\n</table>\n</div>"
          },
          "metadata": {}
        }
      ]
    },
    {
      "cell_type": "code",
      "source": "",
      "metadata": {},
      "execution_count": null,
      "outputs": []
    }
  ]
}